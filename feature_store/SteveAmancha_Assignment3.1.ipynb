{
 "cells": [
  {
   "cell_type": "markdown",
   "id": "5188df59",
   "metadata": {},
   "source": [
    "<!-- instructions -->\n",
    "The housing data set contains information about houses and their values, and the Google Maps raw data set contains information about addresses and their designations. Imagine we are building an ML tool to predict housing prices. To aid with prediction, we want to create a Neighborhood feature group. We can envision this neighborhood feature group helping us predict house prices by giving us a bucket to group new houses into."
   ]
  },
  {
   "cell_type": "code",
   "execution_count": 2,
   "id": "040df640-50d1-4672-959c-b19b98412019",
   "metadata": {
    "tags": []
   },
   "outputs": [
    {
     "name": "stdout",
     "output_type": "stream",
     "text": [
      "sagemaker.config INFO - Not applying SDK defaults from location: /etc/xdg/sagemaker/config.yaml\n",
      "sagemaker.config INFO - Not applying SDK defaults from location: /home/sagemaker-user/.config/sagemaker/config.yaml\n"
     ]
    }
   ],
   "source": [
    "import boto3\n",
    "import sagemaker\n",
    "import pandas as pd\n",
    "import time\n",
    "import datetime\n",
    "import numpy as np\n",
    "from time import gmtime, strftime, sleep\n",
    "from sagemaker.feature_store.feature_group import FeatureGroup"
   ]
  },
  {
   "cell_type": "markdown",
   "id": "82f049cf",
   "metadata": {},
   "source": [
    "#### Auth with AWS"
   ]
  },
  {
   "cell_type": "code",
   "execution_count": 3,
   "id": "39a793a1-62b4-40bf-a0e1-eb8dd71a8f3b",
   "metadata": {
    "tags": []
   },
   "outputs": [],
   "source": [
    "sess = sagemaker.Session()\n",
    "bucket = sess.default_bucket()\n",
    "role = sagemaker.get_execution_role()\n",
    "region = boto3.Session().region_name\n",
    "account_id = boto3.client(\"sts\").get_caller_identity().get(\"Account\")\n",
    "boto_session = boto3.Session(region_name=region)"
   ]
  },
  {
   "cell_type": "code",
   "execution_count": 4,
   "id": "283e6deb",
   "metadata": {
    "tags": []
   },
   "outputs": [],
   "source": [
    "sagemaker_client = boto_session.client(service_name=\"sagemaker\", region_name=region)\n",
    "featurestore_runtime = boto_session.client(\n",
    "    service_name=\"sagemaker-featurestore-runtime\", region_name=region\n",
    ")"
   ]
  },
  {
   "cell_type": "markdown",
   "id": "6e067038",
   "metadata": {},
   "source": [
    "### Get Data"
   ]
  },
  {
   "cell_type": "code",
   "execution_count": 5,
   "id": "be3b4615",
   "metadata": {
    "tags": []
   },
   "outputs": [
    {
     "data": {
      "text/html": [
       "<div>\n",
       "<style scoped>\n",
       "    .dataframe tbody tr th:only-of-type {\n",
       "        vertical-align: middle;\n",
       "    }\n",
       "\n",
       "    .dataframe tbody tr th {\n",
       "        vertical-align: top;\n",
       "    }\n",
       "\n",
       "    .dataframe thead th {\n",
       "        text-align: right;\n",
       "    }\n",
       "</style>\n",
       "<table border=\"1\" class=\"dataframe\">\n",
       "  <thead>\n",
       "    <tr style=\"text-align: right;\">\n",
       "      <th></th>\n",
       "      <th>street_number</th>\n",
       "      <th>route</th>\n",
       "      <th>locality-political</th>\n",
       "      <th>administrative_area_level_2-political</th>\n",
       "      <th>administrative_area_level_1-political</th>\n",
       "      <th>country-political</th>\n",
       "      <th>postal_code</th>\n",
       "      <th>address</th>\n",
       "      <th>longitude</th>\n",
       "      <th>latitude</th>\n",
       "      <th>...</th>\n",
       "      <th>establishment-natural_feature</th>\n",
       "      <th>airport-establishment-point_of_interest</th>\n",
       "      <th>political-sublocality-sublocality_level_1</th>\n",
       "      <th>administrative_area_level_3-political</th>\n",
       "      <th>post_box</th>\n",
       "      <th>establishment-light_rail_station-point_of_interest-transit_station</th>\n",
       "      <th>establishment-point_of_interest</th>\n",
       "      <th>aquarium-establishment-park-point_of_interest-tourist_attraction-zoo</th>\n",
       "      <th>campground-establishment-lodging-park-point_of_interest-rv_park-tourist_attraction</th>\n",
       "      <th>cemetery-establishment-park-point_of_interest</th>\n",
       "    </tr>\n",
       "  </thead>\n",
       "  <tbody>\n",
       "    <tr>\n",
       "      <th>0</th>\n",
       "      <td>3130</td>\n",
       "      <td>Grizzly Peak Boulevard</td>\n",
       "      <td>Berkeley</td>\n",
       "      <td>Alameda County</td>\n",
       "      <td>California</td>\n",
       "      <td>United States</td>\n",
       "      <td>94705.0</td>\n",
       "      <td>3130 Grizzly Peak Blvd, Berkeley, CA 94705, USA</td>\n",
       "      <td>-122.23</td>\n",
       "      <td>37.88</td>\n",
       "      <td>...</td>\n",
       "      <td>NaN</td>\n",
       "      <td>NaN</td>\n",
       "      <td>NaN</td>\n",
       "      <td>NaN</td>\n",
       "      <td>NaN</td>\n",
       "      <td>NaN</td>\n",
       "      <td>NaN</td>\n",
       "      <td>NaN</td>\n",
       "      <td>NaN</td>\n",
       "      <td>NaN</td>\n",
       "    </tr>\n",
       "    <tr>\n",
       "      <th>1</th>\n",
       "      <td>2005</td>\n",
       "      <td>Tunnel Road</td>\n",
       "      <td>Oakland</td>\n",
       "      <td>Alameda County</td>\n",
       "      <td>California</td>\n",
       "      <td>United States</td>\n",
       "      <td>94611.0</td>\n",
       "      <td>2005 Tunnel Rd, Oakland, CA 94611, USA</td>\n",
       "      <td>-122.22</td>\n",
       "      <td>37.86</td>\n",
       "      <td>...</td>\n",
       "      <td>NaN</td>\n",
       "      <td>NaN</td>\n",
       "      <td>NaN</td>\n",
       "      <td>NaN</td>\n",
       "      <td>NaN</td>\n",
       "      <td>NaN</td>\n",
       "      <td>NaN</td>\n",
       "      <td>NaN</td>\n",
       "      <td>NaN</td>\n",
       "      <td>NaN</td>\n",
       "    </tr>\n",
       "    <tr>\n",
       "      <th>2</th>\n",
       "      <td>6886</td>\n",
       "      <td>Chabot Road</td>\n",
       "      <td>Oakland</td>\n",
       "      <td>Alameda County</td>\n",
       "      <td>California</td>\n",
       "      <td>United States</td>\n",
       "      <td>94618.0</td>\n",
       "      <td>6886 Chabot Rd, Oakland, CA 94618, USA</td>\n",
       "      <td>-122.24</td>\n",
       "      <td>37.85</td>\n",
       "      <td>...</td>\n",
       "      <td>NaN</td>\n",
       "      <td>NaN</td>\n",
       "      <td>NaN</td>\n",
       "      <td>NaN</td>\n",
       "      <td>NaN</td>\n",
       "      <td>NaN</td>\n",
       "      <td>NaN</td>\n",
       "      <td>NaN</td>\n",
       "      <td>NaN</td>\n",
       "      <td>NaN</td>\n",
       "    </tr>\n",
       "    <tr>\n",
       "      <th>3</th>\n",
       "      <td>6365</td>\n",
       "      <td>Florio Street</td>\n",
       "      <td>Oakland</td>\n",
       "      <td>Alameda County</td>\n",
       "      <td>California</td>\n",
       "      <td>United States</td>\n",
       "      <td>94618.0</td>\n",
       "      <td>6365 Florio St, Oakland, CA 94618, USA</td>\n",
       "      <td>-122.25</td>\n",
       "      <td>37.85</td>\n",
       "      <td>...</td>\n",
       "      <td>NaN</td>\n",
       "      <td>NaN</td>\n",
       "      <td>NaN</td>\n",
       "      <td>NaN</td>\n",
       "      <td>NaN</td>\n",
       "      <td>NaN</td>\n",
       "      <td>NaN</td>\n",
       "      <td>NaN</td>\n",
       "      <td>NaN</td>\n",
       "      <td>NaN</td>\n",
       "    </tr>\n",
       "    <tr>\n",
       "      <th>4</th>\n",
       "      <td>5407</td>\n",
       "      <td>Bryant Avenue</td>\n",
       "      <td>Oakland</td>\n",
       "      <td>Alameda County</td>\n",
       "      <td>California</td>\n",
       "      <td>United States</td>\n",
       "      <td>94618.0</td>\n",
       "      <td>5407 Bryant Ave, Oakland, CA 94618, USA</td>\n",
       "      <td>-122.25</td>\n",
       "      <td>37.84</td>\n",
       "      <td>...</td>\n",
       "      <td>NaN</td>\n",
       "      <td>NaN</td>\n",
       "      <td>NaN</td>\n",
       "      <td>NaN</td>\n",
       "      <td>NaN</td>\n",
       "      <td>NaN</td>\n",
       "      <td>NaN</td>\n",
       "      <td>NaN</td>\n",
       "      <td>NaN</td>\n",
       "      <td>NaN</td>\n",
       "    </tr>\n",
       "  </tbody>\n",
       "</table>\n",
       "<p>5 rows × 30 columns</p>\n",
       "</div>"
      ],
      "text/plain": [
       "  street_number                   route locality-political  \\\n",
       "0          3130  Grizzly Peak Boulevard           Berkeley   \n",
       "1          2005             Tunnel Road            Oakland   \n",
       "2          6886             Chabot Road            Oakland   \n",
       "3          6365           Florio Street            Oakland   \n",
       "4          5407           Bryant Avenue            Oakland   \n",
       "\n",
       "  administrative_area_level_2-political administrative_area_level_1-political  \\\n",
       "0                        Alameda County                            California   \n",
       "1                        Alameda County                            California   \n",
       "2                        Alameda County                            California   \n",
       "3                        Alameda County                            California   \n",
       "4                        Alameda County                            California   \n",
       "\n",
       "  country-political  postal_code  \\\n",
       "0     United States      94705.0   \n",
       "1     United States      94611.0   \n",
       "2     United States      94618.0   \n",
       "3     United States      94618.0   \n",
       "4     United States      94618.0   \n",
       "\n",
       "                                           address  longitude  latitude  ...  \\\n",
       "0  3130 Grizzly Peak Blvd, Berkeley, CA 94705, USA    -122.23     37.88  ...   \n",
       "1           2005 Tunnel Rd, Oakland, CA 94611, USA    -122.22     37.86  ...   \n",
       "2           6886 Chabot Rd, Oakland, CA 94618, USA    -122.24     37.85  ...   \n",
       "3           6365 Florio St, Oakland, CA 94618, USA    -122.25     37.85  ...   \n",
       "4          5407 Bryant Ave, Oakland, CA 94618, USA    -122.25     37.84  ...   \n",
       "\n",
       "  establishment-natural_feature  airport-establishment-point_of_interest  \\\n",
       "0                           NaN                                      NaN   \n",
       "1                           NaN                                      NaN   \n",
       "2                           NaN                                      NaN   \n",
       "3                           NaN                                      NaN   \n",
       "4                           NaN                                      NaN   \n",
       "\n",
       "  political-sublocality-sublocality_level_1  \\\n",
       "0                                       NaN   \n",
       "1                                       NaN   \n",
       "2                                       NaN   \n",
       "3                                       NaN   \n",
       "4                                       NaN   \n",
       "\n",
       "  administrative_area_level_3-political post_box  \\\n",
       "0                                   NaN      NaN   \n",
       "1                                   NaN      NaN   \n",
       "2                                   NaN      NaN   \n",
       "3                                   NaN      NaN   \n",
       "4                                   NaN      NaN   \n",
       "\n",
       "  establishment-light_rail_station-point_of_interest-transit_station  \\\n",
       "0                                                NaN                   \n",
       "1                                                NaN                   \n",
       "2                                                NaN                   \n",
       "3                                                NaN                   \n",
       "4                                                NaN                   \n",
       "\n",
       "  establishment-point_of_interest  \\\n",
       "0                             NaN   \n",
       "1                             NaN   \n",
       "2                             NaN   \n",
       "3                             NaN   \n",
       "4                             NaN   \n",
       "\n",
       "  aquarium-establishment-park-point_of_interest-tourist_attraction-zoo  \\\n",
       "0                                                NaN                     \n",
       "1                                                NaN                     \n",
       "2                                                NaN                     \n",
       "3                                                NaN                     \n",
       "4                                                NaN                     \n",
       "\n",
       "  campground-establishment-lodging-park-point_of_interest-rv_park-tourist_attraction  \\\n",
       "0                                                NaN                                   \n",
       "1                                                NaN                                   \n",
       "2                                                NaN                                   \n",
       "3                                                NaN                                   \n",
       "4                                                NaN                                   \n",
       "\n",
       "  cemetery-establishment-park-point_of_interest  \n",
       "0                                           NaN  \n",
       "1                                           NaN  \n",
       "2                                           NaN  \n",
       "3                                           NaN  \n",
       "4                                           NaN  \n",
       "\n",
       "[5 rows x 30 columns]"
      ]
     },
     "metadata": {},
     "output_type": "display_data"
    },
    {
     "data": {
      "text/html": [
       "<div>\n",
       "<style scoped>\n",
       "    .dataframe tbody tr th:only-of-type {\n",
       "        vertical-align: middle;\n",
       "    }\n",
       "\n",
       "    .dataframe tbody tr th {\n",
       "        vertical-align: top;\n",
       "    }\n",
       "\n",
       "    .dataframe thead th {\n",
       "        text-align: right;\n",
       "    }\n",
       "</style>\n",
       "<table border=\"1\" class=\"dataframe\">\n",
       "  <thead>\n",
       "    <tr style=\"text-align: right;\">\n",
       "      <th></th>\n",
       "      <th>longitude</th>\n",
       "      <th>latitude</th>\n",
       "      <th>housing_median_age</th>\n",
       "      <th>total_rooms</th>\n",
       "      <th>total_bedrooms</th>\n",
       "      <th>population</th>\n",
       "      <th>households</th>\n",
       "      <th>median_income</th>\n",
       "      <th>median_house_value</th>\n",
       "      <th>ocean_proximity</th>\n",
       "    </tr>\n",
       "  </thead>\n",
       "  <tbody>\n",
       "    <tr>\n",
       "      <th>0</th>\n",
       "      <td>-122.23</td>\n",
       "      <td>37.88</td>\n",
       "      <td>41.0</td>\n",
       "      <td>880.0</td>\n",
       "      <td>129.0</td>\n",
       "      <td>322.0</td>\n",
       "      <td>126.0</td>\n",
       "      <td>8.3252</td>\n",
       "      <td>452600.0</td>\n",
       "      <td>NEAR BAY</td>\n",
       "    </tr>\n",
       "    <tr>\n",
       "      <th>1</th>\n",
       "      <td>-122.22</td>\n",
       "      <td>37.86</td>\n",
       "      <td>21.0</td>\n",
       "      <td>7099.0</td>\n",
       "      <td>1106.0</td>\n",
       "      <td>2401.0</td>\n",
       "      <td>1138.0</td>\n",
       "      <td>8.3014</td>\n",
       "      <td>358500.0</td>\n",
       "      <td>NEAR BAY</td>\n",
       "    </tr>\n",
       "    <tr>\n",
       "      <th>2</th>\n",
       "      <td>-122.24</td>\n",
       "      <td>37.85</td>\n",
       "      <td>52.0</td>\n",
       "      <td>1467.0</td>\n",
       "      <td>190.0</td>\n",
       "      <td>496.0</td>\n",
       "      <td>177.0</td>\n",
       "      <td>7.2574</td>\n",
       "      <td>352100.0</td>\n",
       "      <td>NEAR BAY</td>\n",
       "    </tr>\n",
       "    <tr>\n",
       "      <th>3</th>\n",
       "      <td>-122.25</td>\n",
       "      <td>37.85</td>\n",
       "      <td>52.0</td>\n",
       "      <td>1274.0</td>\n",
       "      <td>235.0</td>\n",
       "      <td>558.0</td>\n",
       "      <td>219.0</td>\n",
       "      <td>5.6431</td>\n",
       "      <td>341300.0</td>\n",
       "      <td>NEAR BAY</td>\n",
       "    </tr>\n",
       "    <tr>\n",
       "      <th>4</th>\n",
       "      <td>-122.25</td>\n",
       "      <td>37.85</td>\n",
       "      <td>52.0</td>\n",
       "      <td>1627.0</td>\n",
       "      <td>280.0</td>\n",
       "      <td>565.0</td>\n",
       "      <td>259.0</td>\n",
       "      <td>3.8462</td>\n",
       "      <td>342200.0</td>\n",
       "      <td>NEAR BAY</td>\n",
       "    </tr>\n",
       "  </tbody>\n",
       "</table>\n",
       "</div>"
      ],
      "text/plain": [
       "   longitude  latitude  housing_median_age  total_rooms  total_bedrooms  \\\n",
       "0    -122.23     37.88                41.0        880.0           129.0   \n",
       "1    -122.22     37.86                21.0       7099.0          1106.0   \n",
       "2    -122.24     37.85                52.0       1467.0           190.0   \n",
       "3    -122.25     37.85                52.0       1274.0           235.0   \n",
       "4    -122.25     37.85                52.0       1627.0           280.0   \n",
       "\n",
       "   population  households  median_income  median_house_value ocean_proximity  \n",
       "0       322.0       126.0         8.3252            452600.0        NEAR BAY  \n",
       "1      2401.0      1138.0         8.3014            358500.0        NEAR BAY  \n",
       "2       496.0       177.0         7.2574            352100.0        NEAR BAY  \n",
       "3       558.0       219.0         5.6431            341300.0        NEAR BAY  \n",
       "4       565.0       259.0         3.8462            342200.0        NEAR BAY  "
      ]
     },
     "metadata": {},
     "output_type": "display_data"
    }
   ],
   "source": [
    "# jupyter path\n",
    "gmaps_houses_df = pd.read_csv('~/aai-540-homework/homework-3-1/housing_gmaps_data_raw.csv')\n",
    "housing_df = pd.read_csv('~/aai-540-homework/homework-3-1/housing.csv')\n",
    "\n",
    "# locally \n",
    "# gmaps_houses_df = pd.read_csv('/Users/Steve/dev/aiMasters/aai-540-homework/homework-3-1/housing_gmaps_data_raw.csv')\n",
    "# housing_df = pd.read_csv('/Users/Steve/dev/aiMasters/aai-540-homework/homework-3-1/housing.csv')\n",
    "\n",
    "display(gmaps_houses_df.head())\n",
    "display(housing_df.head())"
   ]
  },
  {
   "cell_type": "code",
   "execution_count": 80,
   "id": "5655fae8",
   "metadata": {
    "tags": []
   },
   "outputs": [],
   "source": [
    "df = pd.merge(housing_df, gmaps_houses_df, on=['longitude', 'latitude'], how='inner')\n",
    "\n",
    "df['neighborhood'] = df['neighborhood-political']\n",
    "df = df.dropna(subset=['neighborhood'])\n",
    "df = df.drop(columns=['neighborhood-political'])\n",
    "# df['event_time'] = datetime.datetime.now()\n",
    "\n",
    "df['ocean_proximity'] = df['ocean_proximity'].str.replace(' ', '_')\n",
    "\n",
    "\n",
    "ocean_proximity_dummies = pd.get_dummies(df['ocean_proximity'], dtype=int)\n",
    "df = pd.concat([df, ocean_proximity_dummies], axis=1)\n",
    "\n",
    "df['median_house_value'] = df.groupby('neighborhood')['median_house_value'].transform('mean')\n",
    "df['median_house_value'] = df['median_house_value'].clip(upper=500000)\n",
    "\n",
    "# Average 'median_house_age', into 10-year bins\n",
    "df['median_house_age'] = df.groupby('neighborhood')['housing_median_age'].transform('mean')\n",
    "df['median_house_age'] = pd.cut(df['median_house_age'], bins=np.arange(0, 101, 10), right=False, labels=[f\"{i}-{i+9}\" for i in range(0, 100, 10)]).astype(\"string\")\n",
    "\n",
    "# Total households (average per neighborhood, rounded up)\n",
    "df['total_households'] = df.groupby('neighborhood')['households'].transform('mean').apply(np.ceil).astype(int)\n",
    "# Bedrooms per household (average and impute missing values)\n",
    "df['total_bedrooms'] = df.groupby('neighborhood')['total_bedrooms'].transform(\n",
    "    lambda x: x.fillna(x.mean()) if x.mean() > 0 else x.fillna(0)\n",
    ")\n",
    "\n",
    "df['bedrooms_per_household'] = df['total_bedrooms'] / df['households']\n",
    "\n",
    "# Replacing locaility code with postal code - unsure from directions \n",
    "df['locality_code'] = df['postal_code']\n",
    "\n",
    "# Selecting the final columns\n",
    "final_cols = ['neighborhood', '<1H_OCEAN', 'INLAND', 'NEAR_BAY', 'NEAR_OCEAN',\n",
    "               'median_house_value', 'median_house_age', 'total_households', 'bedrooms_per_household', 'locality_code']\n",
    "\n",
    "# Generate the final dataframe\n",
    "final_df = df[final_cols]\n",
    "final_df = final_df.rename(columns={\"<1H_OCEAN\": \"LESS_THAN_1H_OCEAN\"})"
   ]
  },
  {
   "cell_type": "code",
   "execution_count": 81,
   "id": "69314b7c-d702-443a-8fad-2212183ef93b",
   "metadata": {
    "tags": []
   },
   "outputs": [
    {
     "data": {
      "text/html": [
       "<div>\n",
       "<style scoped>\n",
       "    .dataframe tbody tr th:only-of-type {\n",
       "        vertical-align: middle;\n",
       "    }\n",
       "\n",
       "    .dataframe tbody tr th {\n",
       "        vertical-align: top;\n",
       "    }\n",
       "\n",
       "    .dataframe thead th {\n",
       "        text-align: right;\n",
       "    }\n",
       "</style>\n",
       "<table border=\"1\" class=\"dataframe\">\n",
       "  <thead>\n",
       "    <tr style=\"text-align: right;\">\n",
       "      <th></th>\n",
       "      <th>neighborhood</th>\n",
       "      <th>LESS_THAN_1H_OCEAN</th>\n",
       "      <th>INLAND</th>\n",
       "      <th>NEAR_BAY</th>\n",
       "      <th>NEAR_OCEAN</th>\n",
       "      <th>median_house_value</th>\n",
       "      <th>median_house_age</th>\n",
       "      <th>total_households</th>\n",
       "      <th>bedrooms_per_household</th>\n",
       "      <th>locality_code</th>\n",
       "    </tr>\n",
       "  </thead>\n",
       "  <tbody>\n",
       "    <tr>\n",
       "      <th>1</th>\n",
       "      <td>Merriewood</td>\n",
       "      <td>0</td>\n",
       "      <td>0</td>\n",
       "      <td>1</td>\n",
       "      <td>0</td>\n",
       "      <td>328500.000000</td>\n",
       "      <td>30-39</td>\n",
       "      <td>797</td>\n",
       "      <td>0.971880</td>\n",
       "      <td>94611.0</td>\n",
       "    </tr>\n",
       "    <tr>\n",
       "      <th>2</th>\n",
       "      <td>Upper Rockridge</td>\n",
       "      <td>0</td>\n",
       "      <td>0</td>\n",
       "      <td>1</td>\n",
       "      <td>0</td>\n",
       "      <td>377557.285714</td>\n",
       "      <td>40-49</td>\n",
       "      <td>358</td>\n",
       "      <td>1.073446</td>\n",
       "      <td>94618.0</td>\n",
       "    </tr>\n",
       "    <tr>\n",
       "      <th>3</th>\n",
       "      <td>Rockridge</td>\n",
       "      <td>0</td>\n",
       "      <td>0</td>\n",
       "      <td>1</td>\n",
       "      <td>0</td>\n",
       "      <td>292483.333333</td>\n",
       "      <td>50-59</td>\n",
       "      <td>425</td>\n",
       "      <td>1.073059</td>\n",
       "      <td>94618.0</td>\n",
       "    </tr>\n",
       "    <tr>\n",
       "      <th>4</th>\n",
       "      <td>Rockridge</td>\n",
       "      <td>0</td>\n",
       "      <td>0</td>\n",
       "      <td>1</td>\n",
       "      <td>0</td>\n",
       "      <td>292483.333333</td>\n",
       "      <td>50-59</td>\n",
       "      <td>425</td>\n",
       "      <td>1.081081</td>\n",
       "      <td>94618.0</td>\n",
       "    </tr>\n",
       "    <tr>\n",
       "      <th>5</th>\n",
       "      <td>Rockridge</td>\n",
       "      <td>0</td>\n",
       "      <td>0</td>\n",
       "      <td>1</td>\n",
       "      <td>0</td>\n",
       "      <td>292483.333333</td>\n",
       "      <td>50-59</td>\n",
       "      <td>425</td>\n",
       "      <td>1.103627</td>\n",
       "      <td>94618.0</td>\n",
       "    </tr>\n",
       "  </tbody>\n",
       "</table>\n",
       "</div>"
      ],
      "text/plain": [
       "      neighborhood  LESS_THAN_1H_OCEAN  INLAND  NEAR_BAY  NEAR_OCEAN  \\\n",
       "1       Merriewood                   0       0         1           0   \n",
       "2  Upper Rockridge                   0       0         1           0   \n",
       "3        Rockridge                   0       0         1           0   \n",
       "4        Rockridge                   0       0         1           0   \n",
       "5        Rockridge                   0       0         1           0   \n",
       "\n",
       "   median_house_value median_house_age  total_households  \\\n",
       "1       328500.000000            30-39               797   \n",
       "2       377557.285714            40-49               358   \n",
       "3       292483.333333            50-59               425   \n",
       "4       292483.333333            50-59               425   \n",
       "5       292483.333333            50-59               425   \n",
       "\n",
       "   bedrooms_per_household  locality_code  \n",
       "1                0.971880        94611.0  \n",
       "2                1.073446        94618.0  \n",
       "3                1.073059        94618.0  \n",
       "4                1.081081        94618.0  \n",
       "5                1.103627        94618.0  "
      ]
     },
     "metadata": {},
     "output_type": "display_data"
    },
    {
     "name": "stdout",
     "output_type": "stream",
     "text": [
      "(9000, 10)\n",
      "neighborhood              0\n",
      "LESS_THAN_1H_OCEAN        0\n",
      "INLAND                    0\n",
      "NEAR_BAY                  0\n",
      "NEAR_OCEAN                0\n",
      "median_house_value        0\n",
      "median_house_age          0\n",
      "total_households          0\n",
      "bedrooms_per_household    0\n",
      "locality_code             0\n",
      "dtype: int64\n",
      "(8989, 10)\n"
     ]
    }
   ],
   "source": [
    "display(final_df.head())\n",
    "print(final_df.shape)\n",
    "final_df = final_df.dropna()\n",
    "print(final_df.isna().sum())\n",
    "print(final_df.shape)"
   ]
  },
  {
   "cell_type": "markdown",
   "id": "8162d134",
   "metadata": {},
   "source": [
    "### Define Feature Group"
   ]
  },
  {
   "cell_type": "code",
   "execution_count": 92,
   "id": "a8092c23",
   "metadata": {
    "tags": []
   },
   "outputs": [
    {
     "name": "stdout",
     "output_type": "stream",
     "text": [
      "0\n"
     ]
    },
    {
     "data": {
      "text/plain": [
       "[FeatureDefinition(feature_name='neighborhood', feature_type=<FeatureTypeEnum.STRING: 'String'>, collection_type=None),\n",
       " FeatureDefinition(feature_name='LESS_THAN_1H_OCEAN', feature_type=<FeatureTypeEnum.INTEGRAL: 'Integral'>, collection_type=None),\n",
       " FeatureDefinition(feature_name='INLAND', feature_type=<FeatureTypeEnum.INTEGRAL: 'Integral'>, collection_type=None),\n",
       " FeatureDefinition(feature_name='NEAR_BAY', feature_type=<FeatureTypeEnum.INTEGRAL: 'Integral'>, collection_type=None),\n",
       " FeatureDefinition(feature_name='NEAR_OCEAN', feature_type=<FeatureTypeEnum.INTEGRAL: 'Integral'>, collection_type=None),\n",
       " FeatureDefinition(feature_name='median_house_value', feature_type=<FeatureTypeEnum.FRACTIONAL: 'Fractional'>, collection_type=None),\n",
       " FeatureDefinition(feature_name='median_house_age', feature_type=<FeatureTypeEnum.STRING: 'String'>, collection_type=None),\n",
       " FeatureDefinition(feature_name='total_households', feature_type=<FeatureTypeEnum.INTEGRAL: 'Integral'>, collection_type=None),\n",
       " FeatureDefinition(feature_name='bedrooms_per_household', feature_type=<FeatureTypeEnum.FRACTIONAL: 'Fractional'>, collection_type=None),\n",
       " FeatureDefinition(feature_name='locality_code', feature_type=<FeatureTypeEnum.FRACTIONAL: 'Fractional'>, collection_type=None),\n",
       " FeatureDefinition(feature_name='event_time', feature_type=<FeatureTypeEnum.FRACTIONAL: 'Fractional'>, collection_type=None)]"
      ]
     },
     "execution_count": 92,
     "metadata": {},
     "output_type": "execute_result"
    }
   ],
   "source": [
    "neighborhood_feature_group_name = \"neighborhood-feature-group-\" + strftime(\"%d-%H-%M-%S\", gmtime())\n",
    "\n",
    "neighborhood_feature_group = FeatureGroup(\n",
    "    name=neighborhood_feature_group_name, sagemaker_session=sess\n",
    ")\n",
    "\n",
    "def cast_object_to_string(data_frame):\n",
    "    for label in data_frame.columns:\n",
    "        if pd.api.types.is_object_dtype(data_frame[label]):\n",
    "            data_frame[label] = data_frame[label].astype(\"string\")\n",
    "    return data_frame\n",
    "\n",
    "final_df = cast_object_to_string(final_df)\n",
    "\n",
    "record_identifier_feature_name = \"neighborhood\"\n",
    "event_time_feature_name = \"event_time\" # needed for FEATURE GROUP\n",
    "current_time_sec = int(round(time.time()))\n",
    "final_df[event_time_feature_name] = pd.Series(\n",
    "    [current_time_sec] * len(final_df), dtype=\"float64\"\n",
    ")\n",
    "\n",
    "final_df['event_time'] = final_df['event_time'].fillna(current_time_sec)\n",
    "\n",
    "print(final_df['event_time'].isnull().sum()) \n",
    "\n",
    "# Load feature definitions into the feature group\n",
    "neighborhood_feature_group.load_feature_definitions(data_frame=final_df)"
   ]
  },
  {
   "cell_type": "markdown",
   "id": "df06225b",
   "metadata": {},
   "source": [
    "#### Create FeatureGroups in SageMaker FeatureStore"
   ]
  },
  {
   "cell_type": "code",
   "execution_count": 93,
   "id": "801fc35c",
   "metadata": {},
   "outputs": [
    {
     "name": "stdout",
     "output_type": "stream",
     "text": [
      "Waiting for Feature Group Creation\n",
      "Waiting for Feature Group Creation\n",
      "Waiting for Feature Group Creation\n",
      "Waiting for Feature Group Creation\n",
      "FeatureGroup neighborhood-feature-group-30-04-04-03 successfully created.\n"
     ]
    }
   ],
   "source": [
    "def wait_for_feature_group_creation_complete(feature_group):\n",
    "    status = feature_group.describe().get(\"FeatureGroupStatus\")\n",
    "    while status == \"Creating\":\n",
    "        print(\"Waiting for Feature Group Creation\")\n",
    "        time.sleep(5)\n",
    "        status = feature_group.describe().get(\"FeatureGroupStatus\")\n",
    "    if status != \"Created\":\n",
    "        raise RuntimeError(f\"Failed to create feature group {feature_group.name}\")\n",
    "    print(f\"FeatureGroup {feature_group.name} successfully created.\")\n",
    "\n",
    "s3_private_data_path = \"s3://{}/feature_groups/\".format(bucket)\n",
    "\n",
    "neighborhood_feature_group.create(\n",
    "    s3_uri= s3_private_data_path,\n",
    "    record_identifier_name=record_identifier_feature_name,\n",
    "    event_time_feature_name=event_time_feature_name,\n",
    "    role_arn=role,\n",
    "    enable_online_store=True,\n",
    ")\n",
    "\n",
    "wait_for_feature_group_creation_complete(feature_group=neighborhood_feature_group)"
   ]
  },
  {
   "cell_type": "code",
   "execution_count": 89,
   "id": "12b98e4f",
   "metadata": {},
   "outputs": [
    {
     "data": {
      "text/plain": [
       "{'FeatureGroupSummaries': [{'FeatureGroupName': 'neighborhood-feature-group-30-03-58-32',\n",
       "   'FeatureGroupArn': 'arn:aws:sagemaker:us-east-1:936912055594:feature-group/neighborhood-feature-group-30-03-58-32',\n",
       "   'CreationTime': datetime.datetime(2024, 9, 30, 3, 58, 53, 458000, tzinfo=tzlocal()),\n",
       "   'FeatureGroupStatus': 'Created'},\n",
       "  {'FeatureGroupName': 'neighborhood-feature-group-30-02-32-12',\n",
       "   'FeatureGroupArn': 'arn:aws:sagemaker:us-east-1:936912055594:feature-group/neighborhood-feature-group-30-02-32-12',\n",
       "   'CreationTime': datetime.datetime(2024, 9, 30, 2, 32, 20, 54000, tzinfo=tzlocal()),\n",
       "   'FeatureGroupStatus': 'Created',\n",
       "   'OfflineStoreStatus': {'Status': 'Active'}}],\n",
       " 'ResponseMetadata': {'RequestId': '7c230039-650d-4582-8777-e7134bd73dc5',\n",
       "  'HTTPStatusCode': 200,\n",
       "  'HTTPHeaders': {'x-amzn-requestid': '7c230039-650d-4582-8777-e7134bd73dc5',\n",
       "   'content-type': 'application/x-amz-json-1.1',\n",
       "   'content-length': '546',\n",
       "   'date': 'Mon, 30 Sep 2024 03:59:30 GMT'},\n",
       "  'RetryAttempts': 0}}"
      ]
     },
     "execution_count": 89,
     "metadata": {},
     "output_type": "execute_result"
    }
   ],
   "source": [
    "# Validate feature group\n",
    "neighborhood_feature_group.describe()\n",
    "sagemaker_client.list_feature_groups()"
   ]
  },
  {
   "cell_type": "code",
   "execution_count": 94,
   "id": "9ec811c3-cd53-46ac-815c-715d0e9ce663",
   "metadata": {},
   "outputs": [
    {
     "name": "stdout",
     "output_type": "stream",
     "text": [
      "0\n"
     ]
    }
   ],
   "source": [
    "print(final_df['event_time'].isnull().sum())  # Check for missing values\n"
   ]
  },
  {
   "cell_type": "code",
   "execution_count": 95,
   "id": "87eb079a",
   "metadata": {},
   "outputs": [
    {
     "name": "stdout",
     "output_type": "stream",
     "text": [
      "0\n"
     ]
    },
    {
     "data": {
      "text/plain": [
       "IngestionManagerPandas(feature_group_name='neighborhood-feature-group-30-04-04-03', feature_definitions={'neighborhood': {'FeatureName': 'neighborhood', 'FeatureType': 'String'}, 'LESS_THAN_1H_OCEAN': {'FeatureName': 'LESS_THAN_1H_OCEAN', 'FeatureType': 'Integral'}, 'INLAND': {'FeatureName': 'INLAND', 'FeatureType': 'Integral'}, 'NEAR_BAY': {'FeatureName': 'NEAR_BAY', 'FeatureType': 'Integral'}, 'NEAR_OCEAN': {'FeatureName': 'NEAR_OCEAN', 'FeatureType': 'Integral'}, 'median_house_value': {'FeatureName': 'median_house_value', 'FeatureType': 'Fractional'}, 'median_house_age': {'FeatureName': 'median_house_age', 'FeatureType': 'String'}, 'total_households': {'FeatureName': 'total_households', 'FeatureType': 'Integral'}, 'bedrooms_per_household': {'FeatureName': 'bedrooms_per_household', 'FeatureType': 'Fractional'}, 'locality_code': {'FeatureName': 'locality_code', 'FeatureType': 'Fractional'}, 'event_time': {'FeatureName': 'event_time', 'FeatureType': 'Fractional'}}, sagemaker_fs_runtime_client_config=<botocore.config.Config object at 0x7f2bee767f90>, sagemaker_session=<sagemaker.session.Session object at 0x7f2bf07fee50>, max_workers=5, max_processes=1, profile_name=None, _async_result=<multiprocess.pool.MapResult object at 0x7f2be4b73450>, _processing_pool=<pool ProcessPool(ncpus=1)>, _failed_indices=[])"
      ]
     },
     "execution_count": 95,
     "metadata": {},
     "output_type": "execute_result"
    }
   ],
   "source": [
    "# Put Records into feature group \n",
    "print(final_df['event_time'].isnull().sum())  # Check for missing values\n",
    "\n",
    "neighborhood_feature_group.ingest(data_frame=final_df, max_workers=5, wait=True)"
   ]
  },
  {
   "cell_type": "markdown",
   "id": "e675194e",
   "metadata": {},
   "source": [
    "### 3 Homework Queries"
   ]
  },
  {
   "cell_type": "code",
   "execution_count": 100,
   "id": "f650c63d",
   "metadata": {},
   "outputs": [
    {
     "data": {
      "text/plain": [
       "{'ResponseMetadata': {'RequestId': '9162e6f9-3f3e-4206-9f7b-89c97694c7df',\n",
       "  'HTTPStatusCode': 200,\n",
       "  'HTTPHeaders': {'x-amzn-requestid': '9162e6f9-3f3e-4206-9f7b-89c97694c7df',\n",
       "   'content-type': 'application/json',\n",
       "   'content-length': '921',\n",
       "   'date': 'Mon, 30 Sep 2024 04:15:50 GMT'},\n",
       "  'RetryAttempts': 0},\n",
       " 'Record': [{'FeatureName': 'neighborhood', 'ValueAsString': 'Brooktree'},\n",
       "  {'FeatureName': 'LESS_THAN_1H_OCEAN', 'ValueAsString': '1'},\n",
       "  {'FeatureName': 'INLAND', 'ValueAsString': '0'},\n",
       "  {'FeatureName': 'NEAR_BAY', 'ValueAsString': '0'},\n",
       "  {'FeatureName': 'NEAR_OCEAN', 'ValueAsString': '0'},\n",
       "  {'FeatureName': 'median_house_value', 'ValueAsString': '257400.0'},\n",
       "  {'FeatureName': 'median_house_age', 'ValueAsString': '0-9'},\n",
       "  {'FeatureName': 'total_households', 'ValueAsString': '1438'},\n",
       "  {'FeatureName': 'bedrooms_per_household', 'ValueAsString': '0.0'},\n",
       "  {'FeatureName': 'locality_code', 'ValueAsString': '95131.0'},\n",
       "  {'FeatureName': 'event_time', 'ValueAsString': '1727669044.0'}]}"
      ]
     },
     "execution_count": 100,
     "metadata": {},
     "output_type": "execute_result"
    }
   ],
   "source": [
    "# retreive a record from the online store\n",
    "# Brooktree, Fisherman’s Wharf, Los Osos\n",
    "record_identifier_value = 'Brooktree'\n",
    "\n",
    "featurestore_runtime.get_record(\n",
    "    FeatureGroupName=neighborhood_feature_group_name,\n",
    "    RecordIdentifierValueAsString=record_identifier_value,\n",
    ")"
   ]
  },
  {
   "cell_type": "code",
   "execution_count": 99,
   "id": "9316d629-3202-4db0-bfd1-57d3fcf20139",
   "metadata": {},
   "outputs": [
    {
     "data": {
      "text/plain": [
       "{'ResponseMetadata': {'RequestId': '3dd5ff9f-e40d-4a13-adec-bc01f60fe877',\n",
       "  'HTTPStatusCode': 200,\n",
       "  'HTTPHeaders': {'x-amzn-requestid': '3dd5ff9f-e40d-4a13-adec-bc01f60fe877',\n",
       "   'content-type': 'application/json',\n",
       "   'content-length': '936',\n",
       "   'date': 'Mon, 30 Sep 2024 04:15:43 GMT'},\n",
       "  'RetryAttempts': 0},\n",
       " 'Record': [{'FeatureName': 'neighborhood', 'ValueAsString': 'Los Osos'},\n",
       "  {'FeatureName': 'LESS_THAN_1H_OCEAN', 'ValueAsString': '0'},\n",
       "  {'FeatureName': 'INLAND', 'ValueAsString': '0'},\n",
       "  {'FeatureName': 'NEAR_BAY', 'ValueAsString': '0'},\n",
       "  {'FeatureName': 'NEAR_OCEAN', 'ValueAsString': '1'},\n",
       "  {'FeatureName': 'median_house_value', 'ValueAsString': '221612.5'},\n",
       "  {'FeatureName': 'median_house_age', 'ValueAsString': '10-19'},\n",
       "  {'FeatureName': 'total_households', 'ValueAsString': '612'},\n",
       "  {'FeatureName': 'bedrooms_per_household',\n",
       "   'ValueAsString': '1.0956112852664577'},\n",
       "  {'FeatureName': 'locality_code', 'ValueAsString': '93402.0'},\n",
       "  {'FeatureName': 'event_time', 'ValueAsString': '1727669044.0'}]}"
      ]
     },
     "execution_count": 99,
     "metadata": {},
     "output_type": "execute_result"
    }
   ],
   "source": [
    "record_identifier_value = 'Los Osos'\n",
    "\n",
    "featurestore_runtime.get_record(\n",
    "    FeatureGroupName=neighborhood_feature_group_name,\n",
    "    RecordIdentifierValueAsString=record_identifier_value,\n",
    ")"
   ]
  },
  {
   "cell_type": "code",
   "execution_count": 108,
   "id": "49f3a6ef-d5b5-40b9-861a-418201d765aa",
   "metadata": {},
   "outputs": [
    {
     "data": {
      "text/plain": [
       "{'ResponseMetadata': {'RequestId': 'e60c96c2-afd1-4d9a-a1be-e457e7ace68d',\n",
       "  'HTTPStatusCode': 200,\n",
       "  'HTTPHeaders': {'x-amzn-requestid': 'e60c96c2-afd1-4d9a-a1be-e457e7ace68d',\n",
       "   'content-type': 'application/json',\n",
       "   'content-length': '932',\n",
       "   'date': 'Mon, 30 Sep 2024 04:21:13 GMT'},\n",
       "  'RetryAttempts': 0},\n",
       " 'Record': [{'FeatureName': 'neighborhood',\n",
       "   'ValueAsString': \"Fisherman's Wharf\"},\n",
       "  {'FeatureName': 'LESS_THAN_1H_OCEAN', 'ValueAsString': '0'},\n",
       "  {'FeatureName': 'INLAND', 'ValueAsString': '0'},\n",
       "  {'FeatureName': 'NEAR_BAY', 'ValueAsString': '1'},\n",
       "  {'FeatureName': 'NEAR_OCEAN', 'ValueAsString': '0'},\n",
       "  {'FeatureName': 'median_house_value', 'ValueAsString': '500000.0'},\n",
       "  {'FeatureName': 'median_house_age', 'ValueAsString': '50-59'},\n",
       "  {'FeatureName': 'total_households', 'ValueAsString': '250'},\n",
       "  {'FeatureName': 'bedrooms_per_household', 'ValueAsString': '1.268'},\n",
       "  {'FeatureName': 'locality_code', 'ValueAsString': '94133.0'},\n",
       "  {'FeatureName': 'event_time', 'ValueAsString': '1727669044.0'}]}"
      ]
     },
     "execution_count": 108,
     "metadata": {},
     "output_type": "execute_result"
    }
   ],
   "source": [
    "record_identifier_value = \"Fisherman's Wharf\"\n",
    "featurestore_runtime.get_record(\n",
    "    FeatureGroupName=neighborhood_feature_group_name,\n",
    "    RecordIdentifierValueAsString=record_identifier_value,\n",
    ")"
   ]
  },
  {
   "cell_type": "code",
   "execution_count": 109,
   "id": "1e9bfc2d",
   "metadata": {},
   "outputs": [],
   "source": [
    "# Clean up feature group\n",
    "neighborhood_feature_group.delete()\n"
   ]
  },
  {
   "cell_type": "markdown",
   "id": "707079f9",
   "metadata": {},
   "source": [
    "----------------"
   ]
  }
 ],
 "metadata": {
  "availableInstances": [
   {
    "_defaultOrder": 0,
    "_isFastLaunch": true,
    "category": "General purpose",
    "gpuNum": 0,
    "hideHardwareSpecs": false,
    "memoryGiB": 4,
    "name": "ml.t3.medium",
    "vcpuNum": 2
   },
   {
    "_defaultOrder": 1,
    "_isFastLaunch": false,
    "category": "General purpose",
    "gpuNum": 0,
    "hideHardwareSpecs": false,
    "memoryGiB": 8,
    "name": "ml.t3.large",
    "vcpuNum": 2
   },
   {
    "_defaultOrder": 2,
    "_isFastLaunch": false,
    "category": "General purpose",
    "gpuNum": 0,
    "hideHardwareSpecs": false,
    "memoryGiB": 16,
    "name": "ml.t3.xlarge",
    "vcpuNum": 4
   },
   {
    "_defaultOrder": 3,
    "_isFastLaunch": false,
    "category": "General purpose",
    "gpuNum": 0,
    "hideHardwareSpecs": false,
    "memoryGiB": 32,
    "name": "ml.t3.2xlarge",
    "vcpuNum": 8
   },
   {
    "_defaultOrder": 4,
    "_isFastLaunch": true,
    "category": "General purpose",
    "gpuNum": 0,
    "hideHardwareSpecs": false,
    "memoryGiB": 8,
    "name": "ml.m5.large",
    "vcpuNum": 2
   },
   {
    "_defaultOrder": 5,
    "_isFastLaunch": false,
    "category": "General purpose",
    "gpuNum": 0,
    "hideHardwareSpecs": false,
    "memoryGiB": 16,
    "name": "ml.m5.xlarge",
    "vcpuNum": 4
   },
   {
    "_defaultOrder": 6,
    "_isFastLaunch": false,
    "category": "General purpose",
    "gpuNum": 0,
    "hideHardwareSpecs": false,
    "memoryGiB": 32,
    "name": "ml.m5.2xlarge",
    "vcpuNum": 8
   },
   {
    "_defaultOrder": 7,
    "_isFastLaunch": false,
    "category": "General purpose",
    "gpuNum": 0,
    "hideHardwareSpecs": false,
    "memoryGiB": 64,
    "name": "ml.m5.4xlarge",
    "vcpuNum": 16
   },
   {
    "_defaultOrder": 8,
    "_isFastLaunch": false,
    "category": "General purpose",
    "gpuNum": 0,
    "hideHardwareSpecs": false,
    "memoryGiB": 128,
    "name": "ml.m5.8xlarge",
    "vcpuNum": 32
   },
   {
    "_defaultOrder": 9,
    "_isFastLaunch": false,
    "category": "General purpose",
    "gpuNum": 0,
    "hideHardwareSpecs": false,
    "memoryGiB": 192,
    "name": "ml.m5.12xlarge",
    "vcpuNum": 48
   },
   {
    "_defaultOrder": 10,
    "_isFastLaunch": false,
    "category": "General purpose",
    "gpuNum": 0,
    "hideHardwareSpecs": false,
    "memoryGiB": 256,
    "name": "ml.m5.16xlarge",
    "vcpuNum": 64
   },
   {
    "_defaultOrder": 11,
    "_isFastLaunch": false,
    "category": "General purpose",
    "gpuNum": 0,
    "hideHardwareSpecs": false,
    "memoryGiB": 384,
    "name": "ml.m5.24xlarge",
    "vcpuNum": 96
   },
   {
    "_defaultOrder": 12,
    "_isFastLaunch": false,
    "category": "General purpose",
    "gpuNum": 0,
    "hideHardwareSpecs": false,
    "memoryGiB": 8,
    "name": "ml.m5d.large",
    "vcpuNum": 2
   },
   {
    "_defaultOrder": 13,
    "_isFastLaunch": false,
    "category": "General purpose",
    "gpuNum": 0,
    "hideHardwareSpecs": false,
    "memoryGiB": 16,
    "name": "ml.m5d.xlarge",
    "vcpuNum": 4
   },
   {
    "_defaultOrder": 14,
    "_isFastLaunch": false,
    "category": "General purpose",
    "gpuNum": 0,
    "hideHardwareSpecs": false,
    "memoryGiB": 32,
    "name": "ml.m5d.2xlarge",
    "vcpuNum": 8
   },
   {
    "_defaultOrder": 15,
    "_isFastLaunch": false,
    "category": "General purpose",
    "gpuNum": 0,
    "hideHardwareSpecs": false,
    "memoryGiB": 64,
    "name": "ml.m5d.4xlarge",
    "vcpuNum": 16
   },
   {
    "_defaultOrder": 16,
    "_isFastLaunch": false,
    "category": "General purpose",
    "gpuNum": 0,
    "hideHardwareSpecs": false,
    "memoryGiB": 128,
    "name": "ml.m5d.8xlarge",
    "vcpuNum": 32
   },
   {
    "_defaultOrder": 17,
    "_isFastLaunch": false,
    "category": "General purpose",
    "gpuNum": 0,
    "hideHardwareSpecs": false,
    "memoryGiB": 192,
    "name": "ml.m5d.12xlarge",
    "vcpuNum": 48
   },
   {
    "_defaultOrder": 18,
    "_isFastLaunch": false,
    "category": "General purpose",
    "gpuNum": 0,
    "hideHardwareSpecs": false,
    "memoryGiB": 256,
    "name": "ml.m5d.16xlarge",
    "vcpuNum": 64
   },
   {
    "_defaultOrder": 19,
    "_isFastLaunch": false,
    "category": "General purpose",
    "gpuNum": 0,
    "hideHardwareSpecs": false,
    "memoryGiB": 384,
    "name": "ml.m5d.24xlarge",
    "vcpuNum": 96
   },
   {
    "_defaultOrder": 20,
    "_isFastLaunch": false,
    "category": "General purpose",
    "gpuNum": 0,
    "hideHardwareSpecs": true,
    "memoryGiB": 0,
    "name": "ml.geospatial.interactive",
    "supportedImageNames": [
     "sagemaker-geospatial-v1-0"
    ],
    "vcpuNum": 0
   },
   {
    "_defaultOrder": 21,
    "_isFastLaunch": true,
    "category": "Compute optimized",
    "gpuNum": 0,
    "hideHardwareSpecs": false,
    "memoryGiB": 4,
    "name": "ml.c5.large",
    "vcpuNum": 2
   },
   {
    "_defaultOrder": 22,
    "_isFastLaunch": false,
    "category": "Compute optimized",
    "gpuNum": 0,
    "hideHardwareSpecs": false,
    "memoryGiB": 8,
    "name": "ml.c5.xlarge",
    "vcpuNum": 4
   },
   {
    "_defaultOrder": 23,
    "_isFastLaunch": false,
    "category": "Compute optimized",
    "gpuNum": 0,
    "hideHardwareSpecs": false,
    "memoryGiB": 16,
    "name": "ml.c5.2xlarge",
    "vcpuNum": 8
   },
   {
    "_defaultOrder": 24,
    "_isFastLaunch": false,
    "category": "Compute optimized",
    "gpuNum": 0,
    "hideHardwareSpecs": false,
    "memoryGiB": 32,
    "name": "ml.c5.4xlarge",
    "vcpuNum": 16
   },
   {
    "_defaultOrder": 25,
    "_isFastLaunch": false,
    "category": "Compute optimized",
    "gpuNum": 0,
    "hideHardwareSpecs": false,
    "memoryGiB": 72,
    "name": "ml.c5.9xlarge",
    "vcpuNum": 36
   },
   {
    "_defaultOrder": 26,
    "_isFastLaunch": false,
    "category": "Compute optimized",
    "gpuNum": 0,
    "hideHardwareSpecs": false,
    "memoryGiB": 96,
    "name": "ml.c5.12xlarge",
    "vcpuNum": 48
   },
   {
    "_defaultOrder": 27,
    "_isFastLaunch": false,
    "category": "Compute optimized",
    "gpuNum": 0,
    "hideHardwareSpecs": false,
    "memoryGiB": 144,
    "name": "ml.c5.18xlarge",
    "vcpuNum": 72
   },
   {
    "_defaultOrder": 28,
    "_isFastLaunch": false,
    "category": "Compute optimized",
    "gpuNum": 0,
    "hideHardwareSpecs": false,
    "memoryGiB": 192,
    "name": "ml.c5.24xlarge",
    "vcpuNum": 96
   },
   {
    "_defaultOrder": 29,
    "_isFastLaunch": true,
    "category": "Accelerated computing",
    "gpuNum": 1,
    "hideHardwareSpecs": false,
    "memoryGiB": 16,
    "name": "ml.g4dn.xlarge",
    "vcpuNum": 4
   },
   {
    "_defaultOrder": 30,
    "_isFastLaunch": false,
    "category": "Accelerated computing",
    "gpuNum": 1,
    "hideHardwareSpecs": false,
    "memoryGiB": 32,
    "name": "ml.g4dn.2xlarge",
    "vcpuNum": 8
   },
   {
    "_defaultOrder": 31,
    "_isFastLaunch": false,
    "category": "Accelerated computing",
    "gpuNum": 1,
    "hideHardwareSpecs": false,
    "memoryGiB": 64,
    "name": "ml.g4dn.4xlarge",
    "vcpuNum": 16
   },
   {
    "_defaultOrder": 32,
    "_isFastLaunch": false,
    "category": "Accelerated computing",
    "gpuNum": 1,
    "hideHardwareSpecs": false,
    "memoryGiB": 128,
    "name": "ml.g4dn.8xlarge",
    "vcpuNum": 32
   },
   {
    "_defaultOrder": 33,
    "_isFastLaunch": false,
    "category": "Accelerated computing",
    "gpuNum": 4,
    "hideHardwareSpecs": false,
    "memoryGiB": 192,
    "name": "ml.g4dn.12xlarge",
    "vcpuNum": 48
   },
   {
    "_defaultOrder": 34,
    "_isFastLaunch": false,
    "category": "Accelerated computing",
    "gpuNum": 1,
    "hideHardwareSpecs": false,
    "memoryGiB": 256,
    "name": "ml.g4dn.16xlarge",
    "vcpuNum": 64
   },
   {
    "_defaultOrder": 35,
    "_isFastLaunch": false,
    "category": "Accelerated computing",
    "gpuNum": 1,
    "hideHardwareSpecs": false,
    "memoryGiB": 61,
    "name": "ml.p3.2xlarge",
    "vcpuNum": 8
   },
   {
    "_defaultOrder": 36,
    "_isFastLaunch": false,
    "category": "Accelerated computing",
    "gpuNum": 4,
    "hideHardwareSpecs": false,
    "memoryGiB": 244,
    "name": "ml.p3.8xlarge",
    "vcpuNum": 32
   },
   {
    "_defaultOrder": 37,
    "_isFastLaunch": false,
    "category": "Accelerated computing",
    "gpuNum": 8,
    "hideHardwareSpecs": false,
    "memoryGiB": 488,
    "name": "ml.p3.16xlarge",
    "vcpuNum": 64
   },
   {
    "_defaultOrder": 38,
    "_isFastLaunch": false,
    "category": "Accelerated computing",
    "gpuNum": 8,
    "hideHardwareSpecs": false,
    "memoryGiB": 768,
    "name": "ml.p3dn.24xlarge",
    "vcpuNum": 96
   },
   {
    "_defaultOrder": 39,
    "_isFastLaunch": false,
    "category": "Memory Optimized",
    "gpuNum": 0,
    "hideHardwareSpecs": false,
    "memoryGiB": 16,
    "name": "ml.r5.large",
    "vcpuNum": 2
   },
   {
    "_defaultOrder": 40,
    "_isFastLaunch": false,
    "category": "Memory Optimized",
    "gpuNum": 0,
    "hideHardwareSpecs": false,
    "memoryGiB": 32,
    "name": "ml.r5.xlarge",
    "vcpuNum": 4
   },
   {
    "_defaultOrder": 41,
    "_isFastLaunch": false,
    "category": "Memory Optimized",
    "gpuNum": 0,
    "hideHardwareSpecs": false,
    "memoryGiB": 64,
    "name": "ml.r5.2xlarge",
    "vcpuNum": 8
   },
   {
    "_defaultOrder": 42,
    "_isFastLaunch": false,
    "category": "Memory Optimized",
    "gpuNum": 0,
    "hideHardwareSpecs": false,
    "memoryGiB": 128,
    "name": "ml.r5.4xlarge",
    "vcpuNum": 16
   },
   {
    "_defaultOrder": 43,
    "_isFastLaunch": false,
    "category": "Memory Optimized",
    "gpuNum": 0,
    "hideHardwareSpecs": false,
    "memoryGiB": 256,
    "name": "ml.r5.8xlarge",
    "vcpuNum": 32
   },
   {
    "_defaultOrder": 44,
    "_isFastLaunch": false,
    "category": "Memory Optimized",
    "gpuNum": 0,
    "hideHardwareSpecs": false,
    "memoryGiB": 384,
    "name": "ml.r5.12xlarge",
    "vcpuNum": 48
   },
   {
    "_defaultOrder": 45,
    "_isFastLaunch": false,
    "category": "Memory Optimized",
    "gpuNum": 0,
    "hideHardwareSpecs": false,
    "memoryGiB": 512,
    "name": "ml.r5.16xlarge",
    "vcpuNum": 64
   },
   {
    "_defaultOrder": 46,
    "_isFastLaunch": false,
    "category": "Memory Optimized",
    "gpuNum": 0,
    "hideHardwareSpecs": false,
    "memoryGiB": 768,
    "name": "ml.r5.24xlarge",
    "vcpuNum": 96
   },
   {
    "_defaultOrder": 47,
    "_isFastLaunch": false,
    "category": "Accelerated computing",
    "gpuNum": 1,
    "hideHardwareSpecs": false,
    "memoryGiB": 16,
    "name": "ml.g5.xlarge",
    "vcpuNum": 4
   },
   {
    "_defaultOrder": 48,
    "_isFastLaunch": false,
    "category": "Accelerated computing",
    "gpuNum": 1,
    "hideHardwareSpecs": false,
    "memoryGiB": 32,
    "name": "ml.g5.2xlarge",
    "vcpuNum": 8
   },
   {
    "_defaultOrder": 49,
    "_isFastLaunch": false,
    "category": "Accelerated computing",
    "gpuNum": 1,
    "hideHardwareSpecs": false,
    "memoryGiB": 64,
    "name": "ml.g5.4xlarge",
    "vcpuNum": 16
   },
   {
    "_defaultOrder": 50,
    "_isFastLaunch": false,
    "category": "Accelerated computing",
    "gpuNum": 1,
    "hideHardwareSpecs": false,
    "memoryGiB": 128,
    "name": "ml.g5.8xlarge",
    "vcpuNum": 32
   },
   {
    "_defaultOrder": 51,
    "_isFastLaunch": false,
    "category": "Accelerated computing",
    "gpuNum": 1,
    "hideHardwareSpecs": false,
    "memoryGiB": 256,
    "name": "ml.g5.16xlarge",
    "vcpuNum": 64
   },
   {
    "_defaultOrder": 52,
    "_isFastLaunch": false,
    "category": "Accelerated computing",
    "gpuNum": 4,
    "hideHardwareSpecs": false,
    "memoryGiB": 192,
    "name": "ml.g5.12xlarge",
    "vcpuNum": 48
   },
   {
    "_defaultOrder": 53,
    "_isFastLaunch": false,
    "category": "Accelerated computing",
    "gpuNum": 4,
    "hideHardwareSpecs": false,
    "memoryGiB": 384,
    "name": "ml.g5.24xlarge",
    "vcpuNum": 96
   },
   {
    "_defaultOrder": 54,
    "_isFastLaunch": false,
    "category": "Accelerated computing",
    "gpuNum": 8,
    "hideHardwareSpecs": false,
    "memoryGiB": 768,
    "name": "ml.g5.48xlarge",
    "vcpuNum": 192
   },
   {
    "_defaultOrder": 55,
    "_isFastLaunch": false,
    "category": "Accelerated computing",
    "gpuNum": 8,
    "hideHardwareSpecs": false,
    "memoryGiB": 1152,
    "name": "ml.p4d.24xlarge",
    "vcpuNum": 96
   },
   {
    "_defaultOrder": 56,
    "_isFastLaunch": false,
    "category": "Accelerated computing",
    "gpuNum": 8,
    "hideHardwareSpecs": false,
    "memoryGiB": 1152,
    "name": "ml.p4de.24xlarge",
    "vcpuNum": 96
   },
   {
    "_defaultOrder": 57,
    "_isFastLaunch": false,
    "category": "Accelerated computing",
    "gpuNum": 0,
    "hideHardwareSpecs": false,
    "memoryGiB": 32,
    "name": "ml.trn1.2xlarge",
    "vcpuNum": 8
   },
   {
    "_defaultOrder": 58,
    "_isFastLaunch": false,
    "category": "Accelerated computing",
    "gpuNum": 0,
    "hideHardwareSpecs": false,
    "memoryGiB": 512,
    "name": "ml.trn1.32xlarge",
    "vcpuNum": 128
   },
   {
    "_defaultOrder": 59,
    "_isFastLaunch": false,
    "category": "Accelerated computing",
    "gpuNum": 0,
    "hideHardwareSpecs": false,
    "memoryGiB": 512,
    "name": "ml.trn1n.32xlarge",
    "vcpuNum": 128
   }
  ],
  "instance_type": "ml.t3.medium",
  "kernelspec": {
   "display_name": "Python 3 (ipykernel)",
   "language": "python",
   "name": "python3"
  },
  "language_info": {
   "codemirror_mode": {
    "name": "ipython",
    "version": 3
   },
   "file_extension": ".py",
   "mimetype": "text/x-python",
   "name": "python",
   "nbconvert_exporter": "python",
   "pygments_lexer": "ipython3",
   "version": "3.11.9"
  }
 },
 "nbformat": 4,
 "nbformat_minor": 5
}
