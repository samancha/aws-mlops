{
 "cells": [
  {
   "cell_type": "markdown",
   "id": "660569fb-b042-410a-904f-0811108fe933",
   "metadata": {
    "editable": true,
    "slideshow": {
     "slide_type": ""
    },
    "tags": []
   },
   "source": [
    "Model Store - will be creating:\n",
    "* Model Group that will track all experiments and deployment history for our model, \n",
    "* Model Package that will record information on a specific model experiment and deployment\n",
    "* Model Card that contains qualitative information for anyone who needs to maintain the model after its initial development.\n",
    "\n",
    "This assignment should be relatively easy. Feel free to use lab code or code from your final project to complete this assignment. We simply want to take an existing model and add it to our Model Store."
   ]
  },
  {
   "cell_type": "code",
   "execution_count": 55,
   "id": "8cc4f74d-4809-4bd5-830b-11cb42a2f005",
   "metadata": {
    "editable": true,
    "slideshow": {
     "slide_type": ""
    },
    "tags": []
   },
   "outputs": [],
   "source": [
    "import boto3\n",
    "import sagemaker\n",
    "import pandas as pd\n",
    "from sagemaker.model_card import (\n",
    "    ModelOverview, ObjectiveFunction, Function, ObjectiveFunctionEnum, FacetEnum,\n",
    "    TrainingDetails, Metric, MetricTypeEnum, MetricGroup, EvaluationJob,\n",
    "    IntendedUses, RiskRatingEnum, AdditionalInformation, ModelCard\n",
    ")\n",
    "# import numpy as np"
   ]
  },
  {
   "cell_type": "code",
   "execution_count": 7,
   "id": "8855f5ea-042a-40f3-9248-34b23c870ef8",
   "metadata": {},
   "outputs": [],
   "source": [
    "# initialize \n",
    "sess = sagemaker.Session()\n",
    "bucket = sess.default_bucket()\n",
    "role = sagemaker.get_execution_role()\n",
    "region = boto3.Session().region_name\n",
    "account_id = boto3.client(\"sts\").get_caller_identity().get(\"Account\")\n",
    "boto_session = boto3.Session(region_name=region)\n",
    "\n",
    "# sagemaker - understand the difference\n",
    "sagemaker_client = boto_session.client(service_name=\"sagemaker\", region_name=region)"
   ]
  },
  {
   "cell_type": "markdown",
   "id": "42ad044d-26d7-4885-867f-d3ff4c77c0d1",
   "metadata": {},
   "source": [
    "#### Creating Model Group\n",
    "Give your Model Group an informative name about what this group does, e.g. xgboost-breast-cancer-detection, \n",
    "and give it a brief but informative description of what this group does in a bit more detail (best practice is under ~250 chars).\n"
   ]
  },
  {
   "cell_type": "code",
   "execution_count": null,
   "id": "69b72ec3-2c85-48b1-b989-5652c19e1e57",
   "metadata": {},
   "outputs": [],
   "source": [
    "# Creating model package group\n",
    "model_package_group_name = 'test-lab-model-group'\n",
    "model_package_group_description = 'This group will be used to test out storage of models'\n",
    "response = sagemaker_client.create_model_package_group(\n",
    "    ModelPackageGroupName=model_package_group_name,\n",
    "    ModelPackageGroupDescription=model_package_group_description,\n",
    "    Tags=[\n",
    "        {\n",
    "            'Key': 'MonthCreated',\n",
    "            'Value': 'September'\n",
    "        },\n",
    "    ]\n",
    ")"
   ]
  },
  {
   "cell_type": "code",
   "execution_count": 14,
   "id": "593c7927-3ddc-4996-b964-4fc9c112afb4",
   "metadata": {},
   "outputs": [
    {
     "name": "stdout",
     "output_type": "stream",
     "text": [
      "{'ModelPackageGroupName': 'test-lab-model-group', 'ModelPackageGroupArn': 'arn:aws:sagemaker:us-east-1:936912055594:model-package-group/test-lab-model-group', 'ModelPackageGroupDescription': 'This group will be used to test out storage of models', 'CreationTime': datetime.datetime(2024, 9, 30, 22, 45, 2, 925000, tzinfo=tzlocal()), 'CreatedBy': {'IamIdentity': {'Arn': 'arn:aws:sts::936912055594:assumed-role/LabRole/SageMaker', 'PrincipalId': 'AROA5UJCPNUVM4RORLTYL:SageMaker'}}, 'ModelPackageGroupStatus': 'Completed', 'ResponseMetadata': {'RequestId': 'e3964823-70bd-4b1f-86d8-d759ed678992', 'HTTPStatusCode': 200, 'HTTPHeaders': {'x-amzn-requestid': 'e3964823-70bd-4b1f-86d8-d759ed678992', 'content-type': 'application/x-amz-json-1.1', 'content-length': '455', 'date': 'Mon, 30 Sep 2024 22:46:42 GMT'}, 'RetryAttempts': 0}}\n"
     ]
    }
   ],
   "source": [
    "# Verify part 1\n",
    "response = sagemaker_client.describe_model_package_group(\n",
    "    ModelPackageGroupName=model_package_group_name\n",
    ")\n",
    "print(response)"
   ]
  },
  {
   "cell_type": "markdown",
   "id": "3d9e3ba5-088e-440b-a632-428fb1bfa6a3",
   "metadata": {
    "editable": true,
    "slideshow": {
     "slide_type": ""
    },
    "tags": []
   },
   "source": [
    "#### Creating Model Package\n",
    "\n",
    "The Model Package will contain specific details about our current model. Our Model Package should document model deployment information (instance image, model data source i.e. our binary artifact, data source, any pre-processor or post-processor scripts, etc.). After we learn more about Model monitoring, we can also include model quality, model data quality, model bias and model explainability reports here too!\n",
    "\n",
    "ref: https://docs.aws.amazon.com/sagemaker/latest/dg/model-registry-version.html\n",
    "ref:"
   ]
  },
  {
   "cell_type": "code",
   "execution_count": 26,
   "id": "5852c87f-bc48-44a7-84f6-8fb6a435c45e",
   "metadata": {},
   "outputs": [],
   "source": [
    "response = sagemaker_client.create_model_package(\n",
    "    ModelPackageGroupName=model_package_group_name,\n",
    "    ModelPackageDescription='Initial model package deployed',\n",
    "    InferenceSpecification={\n",
    "        'Containers': [\n",
    "            {\n",
    "                'ContainerHostname': 'Container-1',\n",
    "                'Image': '683313688378.dkr.ecr.us-east-1.amazonaws.com/sagemaker-xgboost:1.7-1',\n",
    "                'ModelDataUrl': 's3://sagemaker-us-east-1-936912055594/DEMO-breast-cancer-prediction-xgboost-highlevel/output/xgb-2024-09-30-20-57-19/xgb-2024-09-30-20-57-19/output/model.tar.gz',\n",
    "                'ProductId': '10',\n",
    "                'Environment': {\n",
    "                    'string': 'test'\n",
    "                },\n",
    "                'ModelInput': {\n",
    "                    'DataInputConfig': 'batch'\n",
    "                },\n",
    "                'Framework': 'XGBOOST',\n",
    "                'FrameworkVersion': '1.7',\n",
    "                'NearestModelName': 'xgboost'\n",
    "            },\n",
    "        ],\n",
    "        'SupportedTransformInstanceTypes': [\n",
    "            'ml.m4.2xlarge'\n",
    "        ],\n",
    "        'SupportedRealtimeInferenceInstanceTypes': [\n",
    "            'ml.m5.xlarge'\n",
    "        ],\n",
    "        'SupportedContentTypes': [\n",
    "            'text/csv',\n",
    "        ],\n",
    "        'SupportedResponseMIMETypes': [\n",
    "            'text/csv',\n",
    "        ]\n",
    "    }\n",
    ")"
   ]
  },
  {
   "cell_type": "code",
   "execution_count": 34,
   "id": "d07a17d2-2111-48ba-a960-2e39ddb6ac4f",
   "metadata": {},
   "outputs": [
    {
     "data": {
      "text/plain": [
       "{'ModelPackageSummaryList': [{'ModelPackageGroupName': 'test-lab-model-group',\n",
       "   'ModelPackageVersion': 1,\n",
       "   'ModelPackageArn': 'arn:aws:sagemaker:us-east-1:936912055594:model-package/test-lab-model-group/1',\n",
       "   'ModelPackageDescription': 'Initial model package deployed',\n",
       "   'CreationTime': datetime.datetime(2024, 9, 30, 23, 17, 52, 790000, tzinfo=tzlocal()),\n",
       "   'ModelPackageStatus': 'Completed'}],\n",
       " 'ResponseMetadata': {'RequestId': '37006c2a-3f00-4553-9186-2d58ce09768b',\n",
       "  'HTTPStatusCode': 200,\n",
       "  'HTTPHeaders': {'x-amzn-requestid': '37006c2a-3f00-4553-9186-2d58ce09768b',\n",
       "   'content-type': 'application/x-amz-json-1.1',\n",
       "   'content-length': '323',\n",
       "   'date': 'Mon, 30 Sep 2024 23:29:27 GMT'},\n",
       "  'RetryAttempts': 0}}"
      ]
     },
     "execution_count": 34,
     "metadata": {},
     "output_type": "execute_result"
    }
   ],
   "source": [
    "sagemaker_client.list_model_packages(ModelPackageGroupName=model_package_group_name)\n"
   ]
  },
  {
   "cell_type": "code",
   "execution_count": 36,
   "id": "9b25889b-2cbd-41f1-b596-fef2d5d2e5f7",
   "metadata": {},
   "outputs": [
    {
     "name": "stdout",
     "output_type": "stream",
     "text": [
      "{'ModelPackageGroupName': 'test-lab-model-group', 'ModelPackageVersion': 1, 'ModelPackageArn': 'arn:aws:sagemaker:us-east-1:936912055594:model-package/test-lab-model-group/1', 'ModelPackageDescription': 'Initial model package deployed', 'CreationTime': datetime.datetime(2024, 9, 30, 23, 17, 52, 790000, tzinfo=tzlocal()), 'InferenceSpecification': {'Containers': [{'ContainerHostname': 'Container-1', 'Image': '683313688378.dkr.ecr.us-east-1.amazonaws.com/sagemaker-xgboost:1.7-1', 'ImageDigest': 'sha256:f037aa7389a000dc611e723fb227d21a07cf495fd5e7bd8292a260ae101b5546', 'ModelDataUrl': 's3://sagemaker-us-east-1-936912055594/DEMO-breast-cancer-prediction-xgboost-highlevel/output/xgb-2024-09-30-20-57-19/xgb-2024-09-30-20-57-19/output/model.tar.gz', 'Environment': {'string': 'test'}, 'ModelInput': {'DataInputConfig': 'batch'}, 'Framework': 'XGBOOST', 'FrameworkVersion': '1.7', 'NearestModelName': 'xgboost'}], 'SupportedTransformInstanceTypes': ['ml.m4.2xlarge'], 'SupportedRealtimeInferenceInstanceTypes': ['ml.m5.xlarge'], 'SupportedContentTypes': ['text/csv'], 'SupportedResponseMIMETypes': ['text/csv']}, 'ModelPackageStatus': 'Completed', 'ModelPackageStatusDetails': {'ValidationStatuses': [], 'ImageScanStatuses': []}, 'CertifyForMarketplace': False, 'CreatedBy': {'IamIdentity': {'Arn': 'arn:aws:sts::936912055594:assumed-role/LabRole/SageMaker', 'PrincipalId': 'AROA5UJCPNUVM4RORLTYL:SageMaker'}}, 'LastModifiedTime': datetime.datetime(2024, 9, 30, 23, 19, 2, 862000, tzinfo=tzlocal()), 'LastModifiedBy': {'UserProfileArn': 'arn:aws:sagemaker:us-east-1:936912055594:user-profile/d-joywsavm9blz/Steve', 'UserProfileName': 'Steve', 'DomainId': 'd-joywsavm9blz', 'IamIdentity': {'Arn': 'arn:aws:sts::936912055594:assumed-role/LabRole/SageMaker', 'PrincipalId': 'AROA5UJCPNUVM4RORLTYL:SageMaker'}}, 'ModelCard': {'ModelCardContent': '{\"training_details\":{\"training_job_details\":{\"training_metrics\":[{\"name\":\"validation:logloss\",\"value\":0.1469700038433075},{\"name\":\"train:logloss\",\"value\":0.0762299969792366}],\"training_datasets\":[\"s3://sagemaker-us-east-1-936912055594/DEMO-breast-cancer-prediction-xgboost-highlevel/train\",\"s3://sagemaker-us-east-1-936912055594/DEMO-breast-cancer-prediction-xgboost-highlevel/validation\"],\"hyper_parameters\":[{\"name\":\"eta\",\"value\":\"0.2\"},{\"name\":\"gamma\",\"value\":\"4\"},{\"name\":\"max_depth\",\"value\":\"5\"},{\"name\":\"min_child_weight\",\"value\":\"6\"},{\"name\":\"num_round\",\"value\":\"100\"},{\"name\":\"objective\",\"value\":\"binary:logistic\"},{\"name\":\"subsample\",\"value\":\"0.8\"},{\"name\":\"verbosity\",\"value\":\"0\"}],\"training_environment\":{\"container_image\":[\"683313688378.dkr.ecr.us-east-1.amazonaws.com/sagemaker-xgboost:1.7-1\"]},\"training_arn\":\"arn:aws:sagemaker:us-east-1:936912055594:training-job/xgb-2024-09-30-20-57-19\"}},\"intended_uses\":{},\"model_overview\":{\"model_artifact\":[\"s3://sagemaker-us-east-1-936912055594/DEMO-breast-cancer-prediction-xgboost-highlevel/output/xgb-2024-09-30-20-57-19/xgb-2024-09-30-20-57-19/output/model.tar.gz\"]},\"additional_information\":{},\"business_details\":{}}', 'ModelCardStatus': 'Draft'}, 'ResponseMetadata': {'RequestId': '005adb79-c44f-406c-9207-c21b51421b99', 'HTTPStatusCode': 200, 'HTTPHeaders': {'x-amzn-requestid': '005adb79-c44f-406c-9207-c21b51421b99', 'content-type': 'application/x-amz-json-1.1', 'content-length': '2986', 'date': 'Mon, 30 Sep 2024 23:30:05 GMT'}, 'RetryAttempts': 0}}\n"
     ]
    }
   ],
   "source": [
    "# verify model package\n",
    "response = sagemaker_client.describe_model_package(\n",
    "    ModelPackageName='arn:aws:sagemaker:us-east-1:936912055594:model-package/test-lab-model-group/1'\n",
    ")\n",
    "print(response)"
   ]
  },
  {
   "cell_type": "markdown",
   "id": "8c07158d-bcab-446c-ae08-cc218514a4af",
   "metadata": {
    "editable": true,
    "slideshow": {
     "slide_type": ""
    },
    "tags": []
   },
   "source": [
    "#### Creating Model Card\n",
    "The Model Card will contain qualitative details about our current model. The Model Card can contain a lot of information. At a minimum, it should contain details of what the model algorithm is, how the model was trained, what hyperparameters were used to train the model, what the input features for the model are, who the model owner is (you), what problem the model is trying to solve, intended uses of the model, evaluation details of the model, and so on.\n",
    "\n",
    "ref: https://docs.aws.amazon.com/sagemaker/latest/dg/model-cards-create.html"
   ]
  },
  {
   "cell_type": "code",
   "execution_count": 53,
   "id": "285cfc0d-e66d-46bf-b305-fb9214075df1",
   "metadata": {},
   "outputs": [
    {
     "name": "stdout",
     "output_type": "stream",
     "text": [
      "model overview\n",
      "arn:aws:sagemaker:us-east-1:936912055594:model/sagemaker-xgboost-2024-09-30-21-06-06-556\n",
      "['683313688378.dkr.ecr.us-east-1.amazonaws.com/sagemaker-xgboost:1.7-1']\n",
      "['s3://sagemaker-us-east-1-936912055594/DEMO-breast-cancer-prediction-xgboost-highlevel/output/xgb-2024-09-30-20-57-19/xgb-2024-09-30-20-57-19/output/model.tar.gz']\n",
      "training details\n",
      "arn:aws:sagemaker:us-east-1:936912055594:training-job/xgb-2024-09-30-20-57-19\n",
      "['683313688378.dkr.ecr.us-east-1.amazonaws.com/sagemaker-xgboost:1.7-1']\n",
      "[{'name': 'validation:logloss', 'value': 0.1469700038433075}, {'name': 'train:logloss', 'value': 0.0762299969792366}]\n",
      "[<sagemaker.model_card.model_card.EvaluationJob object at 0x7fb3ed8ca750>]\n"
     ]
    }
   ],
   "source": [
    "model_overview = sagemaker.model_card.ModelOverview.from_model_name(\n",
    "    model_name='sagemaker-xgboost-2024-09-30-21-06-06-556',\n",
    "    sagemaker_session=sess,\n",
    ")\n",
    "\n",
    "objective_function = sagemaker.model_card.ObjectiveFunction(\n",
    "    function=sagemaker.model_card.Function(\n",
    "        function=sagemaker.model_card.ObjectiveFunctionEnum.MINIMIZE,\n",
    "        facet=sagemaker.model_card.FacetEnum.LOSS,\n",
    "    ),\n",
    "    notes=\"An-explanation-about-objective-function\",\n",
    ")\n",
    "\n",
    "print('model overview')\n",
    "print(model_overview.model_id)\n",
    "print(model_overview.inference_environment.container_image)\n",
    "print(model_overview.model_artifact)\n",
    "\n",
    "training_details = sagemaker.model_card.TrainingDetails.from_model_overview(\n",
    "    model_overview=model_overview,\n",
    "    sagemaker_session=sess,\n",
    "    objective_function=objective_function,\n",
    "    training_observations=\"Model-training-observations\",\n",
    ")\n",
    "print('training details')\n",
    "print(training_details.training_job_details.training_arn)\n",
    "print(training_details.training_job_details.training_environment.container_image) \n",
    "print([{\"name\": i.name, \"value\": i.value} for i in training_details.training_job_details.training_metrics]) \n",
    "\n",
    "my_metric_group = sagemaker.model_card.MetricGroup(\n",
    "    name=\"binary classification metrics\",\n",
    "    metric_data=[Metric(name=\"accuracy\", type=sagemaker.model_card.MetricTypeEnum.NUMBER, value=0.5)]\n",
    ")\n",
    "\n",
    "evaluation_details = [\n",
    "    sagemaker.model_card.EvaluationJob(\n",
    "        name=\"Evaluation-job\",\n",
    "        evaluation_observation=\"Evaluation-observations\",\n",
    "        datasets=[\"s3://sagemaker-us-east-1-936912055594/DEMO-breast-cancer-prediction-xgboost-highlevel/validation\"],\n",
    "        metric_groups=[my_metric_group],\n",
    "    )\n",
    "]\n",
    "\n",
    "print(evaluation_details)\n",
    "\n",
    "intended_uses = IntendedUses(\n",
    "    purpose_of_model=\"Purpose-of-the-model\",\n",
    "    intended_uses=\"The-intended-uses-of-this-model\",\n",
    "    factors_affecting_model_efficiency=\"Any-factors-effecting-model-efficacy\",\n",
    "    risk_rating=RiskRatingEnum.LOW,\n",
    "    explanations_for_risk_rating=\"Explanation-for-low-risk-rating\",\n",
    ")\n",
    "\n",
    "additional_information = AdditionalInformation(\n",
    "    ethical_considerations=\"Any-ethical-considerations\",\n",
    "    caveats_and_recommendations=\"Any-caveats-and-recommendations\",\n",
    "    custom_details={\"custom details1\": \"details-value\"},\n",
    ")"
   ]
  },
  {
   "cell_type": "code",
   "execution_count": 60,
   "id": "1478dad0-4b8e-44e4-86bc-848d205c5b9e",
   "metadata": {},
   "outputs": [
    {
     "data": {
      "text/plain": [
       "'arn:aws:sagemaker:us-east-1:936912055594:model-card/MC-test-name'"
      ]
     },
     "execution_count": 60,
     "metadata": {},
     "output_type": "execute_result"
    }
   ],
   "source": [
    "import json\n",
    "model_card_name = 'MC-test-name'\n",
    "card = ModelCard(\n",
    "    name=model_card_name,\n",
    "    status='Draft',  # Set the status of the model card\n",
    "    model_overview=model_overview,\n",
    "    training_details=training_details,\n",
    "    intended_uses=intended_uses,\n",
    "    evaluation_details=evaluation_details,\n",
    "    additional_information=additional_information,\n",
    "    sagemaker_session=sess,\n",
    ")\n",
    "card.create()"
   ]
  },
  {
   "cell_type": "code",
   "execution_count": 62,
   "id": "e84e3d90-d1e2-4915-882f-26d14aa2c87b",
   "metadata": {},
   "outputs": [
    {
     "name": "stdout",
     "output_type": "stream",
     "text": [
      "{'ModelCardArn': 'arn:aws:sagemaker:us-east-1:936912055594:model-card/MC-test-name', 'ModelCardName': 'MC-test-name', 'ModelCardVersion': 1, 'Content': '{\"model_overview\": {\"model_id\": \"arn:aws:sagemaker:us-east-1:936912055594:model/sagemaker-xgboost-2024-09-30-21-06-06-556\", \"model_name\": \"sagemaker-xgboost-2024-09-30-21-06-06-556\", \"model_artifact\": [\"s3://sagemaker-us-east-1-936912055594/DEMO-breast-cancer-prediction-xgboost-highlevel/output/xgb-2024-09-30-20-57-19/xgb-2024-09-30-20-57-19/output/model.tar.gz\"], \"inference_environment\": {\"container_image\": [\"683313688378.dkr.ecr.us-east-1.amazonaws.com/sagemaker-xgboost:1.7-1\"]}}, \"intended_uses\": {\"purpose_of_model\": \"Purpose-of-the-model\", \"intended_uses\": \"The-intended-uses-of-this-model\", \"factors_affecting_model_efficiency\": \"Any-factors-effecting-model-efficacy\", \"risk_rating\": \"Low\", \"explanations_for_risk_rating\": \"Explanation-for-low-risk-rating\"}, \"training_details\": {\"objective_function\": {\"function\": {\"function\": \"Minimize\", \"facet\": \"Loss\"}, \"notes\": \"An-explanation-about-objective-function\"}, \"training_observations\": \"Model-training-observations\", \"training_job_details\": {\"training_arn\": \"arn:aws:sagemaker:us-east-1:936912055594:training-job/xgb-2024-09-30-20-57-19\", \"training_datasets\": [], \"training_environment\": {\"container_image\": [\"683313688378.dkr.ecr.us-east-1.amazonaws.com/sagemaker-xgboost:1.7-1\"]}, \"training_metrics\": [{\"name\": \"validation:logloss\", \"value\": 0.1469700038433075}, {\"name\": \"train:logloss\", \"value\": 0.0762299969792366}], \"user_provided_training_metrics\": [], \"hyper_parameters\": [{\"name\": \"eta\", \"value\": \"0.2\"}, {\"name\": \"gamma\", \"value\": \"4\"}, {\"name\": \"max_depth\", \"value\": \"5\"}, {\"name\": \"min_child_weight\", \"value\": \"6\"}, {\"name\": \"num_round\", \"value\": \"100\"}, {\"name\": \"objective\", \"value\": \"binary:logistic\"}, {\"name\": \"subsample\", \"value\": \"0.8\"}, {\"name\": \"verbosity\", \"value\": \"0\"}], \"user_provided_hyper_parameters\": []}}, \"evaluation_details\": [{\"name\": \"Evaluation-job\", \"evaluation_observation\": \"Evaluation-observations\", \"datasets\": [\"s3://sagemaker-us-east-1-936912055594/DEMO-breast-cancer-prediction-xgboost-highlevel/validation\"], \"metric_groups\": [{\"name\": \"binary classification metrics\", \"metric_data\": [{\"name\": \"accuracy\", \"type\": \"number\", \"value\": 0.5}]}]}], \"additional_information\": {\"ethical_considerations\": \"Any-ethical-considerations\", \"caveats_and_recommendations\": \"Any-caveats-and-recommendations\", \"custom_details\": {\"custom details1\": \"details-value\"}}}', 'ModelCardStatus': 'Draft', 'CreationTime': datetime.datetime(2024, 10, 1, 0, 32, 28, 380000, tzinfo=tzlocal()), 'CreatedBy': {}, 'LastModifiedTime': datetime.datetime(2024, 10, 1, 0, 32, 28, 380000, tzinfo=tzlocal()), 'LastModifiedBy': {}, 'ResponseMetadata': {'RequestId': '693f4f11-49ec-4f3c-ae83-77e2428078b0', 'HTTPStatusCode': 200, 'HTTPHeaders': {'x-amzn-requestid': '693f4f11-49ec-4f3c-ae83-77e2428078b0', 'content-type': 'application/x-amz-json-1.1', 'content-length': '2838', 'date': 'Tue, 01 Oct 2024 00:32:37 GMT'}, 'RetryAttempts': 0}}\n"
     ]
    }
   ],
   "source": [
    "# Verify model card\n",
    "response = sagemaker_client.describe_model_card(\n",
    "    ModelCardName=model_card_name\n",
    ")\n",
    "print(response)"
   ]
  }
 ],
 "metadata": {
  "availableInstances": [
   {
    "_defaultOrder": 0,
    "_isFastLaunch": true,
    "category": "General purpose",
    "gpuNum": 0,
    "hideHardwareSpecs": false,
    "memoryGiB": 4,
    "name": "ml.t3.medium",
    "vcpuNum": 2
   },
   {
    "_defaultOrder": 1,
    "_isFastLaunch": false,
    "category": "General purpose",
    "gpuNum": 0,
    "hideHardwareSpecs": false,
    "memoryGiB": 8,
    "name": "ml.t3.large",
    "vcpuNum": 2
   },
   {
    "_defaultOrder": 2,
    "_isFastLaunch": false,
    "category": "General purpose",
    "gpuNum": 0,
    "hideHardwareSpecs": false,
    "memoryGiB": 16,
    "name": "ml.t3.xlarge",
    "vcpuNum": 4
   },
   {
    "_defaultOrder": 3,
    "_isFastLaunch": false,
    "category": "General purpose",
    "gpuNum": 0,
    "hideHardwareSpecs": false,
    "memoryGiB": 32,
    "name": "ml.t3.2xlarge",
    "vcpuNum": 8
   },
   {
    "_defaultOrder": 4,
    "_isFastLaunch": true,
    "category": "General purpose",
    "gpuNum": 0,
    "hideHardwareSpecs": false,
    "memoryGiB": 8,
    "name": "ml.m5.large",
    "vcpuNum": 2
   },
   {
    "_defaultOrder": 5,
    "_isFastLaunch": false,
    "category": "General purpose",
    "gpuNum": 0,
    "hideHardwareSpecs": false,
    "memoryGiB": 16,
    "name": "ml.m5.xlarge",
    "vcpuNum": 4
   },
   {
    "_defaultOrder": 6,
    "_isFastLaunch": false,
    "category": "General purpose",
    "gpuNum": 0,
    "hideHardwareSpecs": false,
    "memoryGiB": 32,
    "name": "ml.m5.2xlarge",
    "vcpuNum": 8
   },
   {
    "_defaultOrder": 7,
    "_isFastLaunch": false,
    "category": "General purpose",
    "gpuNum": 0,
    "hideHardwareSpecs": false,
    "memoryGiB": 64,
    "name": "ml.m5.4xlarge",
    "vcpuNum": 16
   },
   {
    "_defaultOrder": 8,
    "_isFastLaunch": false,
    "category": "General purpose",
    "gpuNum": 0,
    "hideHardwareSpecs": false,
    "memoryGiB": 128,
    "name": "ml.m5.8xlarge",
    "vcpuNum": 32
   },
   {
    "_defaultOrder": 9,
    "_isFastLaunch": false,
    "category": "General purpose",
    "gpuNum": 0,
    "hideHardwareSpecs": false,
    "memoryGiB": 192,
    "name": "ml.m5.12xlarge",
    "vcpuNum": 48
   },
   {
    "_defaultOrder": 10,
    "_isFastLaunch": false,
    "category": "General purpose",
    "gpuNum": 0,
    "hideHardwareSpecs": false,
    "memoryGiB": 256,
    "name": "ml.m5.16xlarge",
    "vcpuNum": 64
   },
   {
    "_defaultOrder": 11,
    "_isFastLaunch": false,
    "category": "General purpose",
    "gpuNum": 0,
    "hideHardwareSpecs": false,
    "memoryGiB": 384,
    "name": "ml.m5.24xlarge",
    "vcpuNum": 96
   },
   {
    "_defaultOrder": 12,
    "_isFastLaunch": false,
    "category": "General purpose",
    "gpuNum": 0,
    "hideHardwareSpecs": false,
    "memoryGiB": 8,
    "name": "ml.m5d.large",
    "vcpuNum": 2
   },
   {
    "_defaultOrder": 13,
    "_isFastLaunch": false,
    "category": "General purpose",
    "gpuNum": 0,
    "hideHardwareSpecs": false,
    "memoryGiB": 16,
    "name": "ml.m5d.xlarge",
    "vcpuNum": 4
   },
   {
    "_defaultOrder": 14,
    "_isFastLaunch": false,
    "category": "General purpose",
    "gpuNum": 0,
    "hideHardwareSpecs": false,
    "memoryGiB": 32,
    "name": "ml.m5d.2xlarge",
    "vcpuNum": 8
   },
   {
    "_defaultOrder": 15,
    "_isFastLaunch": false,
    "category": "General purpose",
    "gpuNum": 0,
    "hideHardwareSpecs": false,
    "memoryGiB": 64,
    "name": "ml.m5d.4xlarge",
    "vcpuNum": 16
   },
   {
    "_defaultOrder": 16,
    "_isFastLaunch": false,
    "category": "General purpose",
    "gpuNum": 0,
    "hideHardwareSpecs": false,
    "memoryGiB": 128,
    "name": "ml.m5d.8xlarge",
    "vcpuNum": 32
   },
   {
    "_defaultOrder": 17,
    "_isFastLaunch": false,
    "category": "General purpose",
    "gpuNum": 0,
    "hideHardwareSpecs": false,
    "memoryGiB": 192,
    "name": "ml.m5d.12xlarge",
    "vcpuNum": 48
   },
   {
    "_defaultOrder": 18,
    "_isFastLaunch": false,
    "category": "General purpose",
    "gpuNum": 0,
    "hideHardwareSpecs": false,
    "memoryGiB": 256,
    "name": "ml.m5d.16xlarge",
    "vcpuNum": 64
   },
   {
    "_defaultOrder": 19,
    "_isFastLaunch": false,
    "category": "General purpose",
    "gpuNum": 0,
    "hideHardwareSpecs": false,
    "memoryGiB": 384,
    "name": "ml.m5d.24xlarge",
    "vcpuNum": 96
   },
   {
    "_defaultOrder": 20,
    "_isFastLaunch": false,
    "category": "General purpose",
    "gpuNum": 0,
    "hideHardwareSpecs": true,
    "memoryGiB": 0,
    "name": "ml.geospatial.interactive",
    "supportedImageNames": [
     "sagemaker-geospatial-v1-0"
    ],
    "vcpuNum": 0
   },
   {
    "_defaultOrder": 21,
    "_isFastLaunch": true,
    "category": "Compute optimized",
    "gpuNum": 0,
    "hideHardwareSpecs": false,
    "memoryGiB": 4,
    "name": "ml.c5.large",
    "vcpuNum": 2
   },
   {
    "_defaultOrder": 22,
    "_isFastLaunch": false,
    "category": "Compute optimized",
    "gpuNum": 0,
    "hideHardwareSpecs": false,
    "memoryGiB": 8,
    "name": "ml.c5.xlarge",
    "vcpuNum": 4
   },
   {
    "_defaultOrder": 23,
    "_isFastLaunch": false,
    "category": "Compute optimized",
    "gpuNum": 0,
    "hideHardwareSpecs": false,
    "memoryGiB": 16,
    "name": "ml.c5.2xlarge",
    "vcpuNum": 8
   },
   {
    "_defaultOrder": 24,
    "_isFastLaunch": false,
    "category": "Compute optimized",
    "gpuNum": 0,
    "hideHardwareSpecs": false,
    "memoryGiB": 32,
    "name": "ml.c5.4xlarge",
    "vcpuNum": 16
   },
   {
    "_defaultOrder": 25,
    "_isFastLaunch": false,
    "category": "Compute optimized",
    "gpuNum": 0,
    "hideHardwareSpecs": false,
    "memoryGiB": 72,
    "name": "ml.c5.9xlarge",
    "vcpuNum": 36
   },
   {
    "_defaultOrder": 26,
    "_isFastLaunch": false,
    "category": "Compute optimized",
    "gpuNum": 0,
    "hideHardwareSpecs": false,
    "memoryGiB": 96,
    "name": "ml.c5.12xlarge",
    "vcpuNum": 48
   },
   {
    "_defaultOrder": 27,
    "_isFastLaunch": false,
    "category": "Compute optimized",
    "gpuNum": 0,
    "hideHardwareSpecs": false,
    "memoryGiB": 144,
    "name": "ml.c5.18xlarge",
    "vcpuNum": 72
   },
   {
    "_defaultOrder": 28,
    "_isFastLaunch": false,
    "category": "Compute optimized",
    "gpuNum": 0,
    "hideHardwareSpecs": false,
    "memoryGiB": 192,
    "name": "ml.c5.24xlarge",
    "vcpuNum": 96
   },
   {
    "_defaultOrder": 29,
    "_isFastLaunch": true,
    "category": "Accelerated computing",
    "gpuNum": 1,
    "hideHardwareSpecs": false,
    "memoryGiB": 16,
    "name": "ml.g4dn.xlarge",
    "vcpuNum": 4
   },
   {
    "_defaultOrder": 30,
    "_isFastLaunch": false,
    "category": "Accelerated computing",
    "gpuNum": 1,
    "hideHardwareSpecs": false,
    "memoryGiB": 32,
    "name": "ml.g4dn.2xlarge",
    "vcpuNum": 8
   },
   {
    "_defaultOrder": 31,
    "_isFastLaunch": false,
    "category": "Accelerated computing",
    "gpuNum": 1,
    "hideHardwareSpecs": false,
    "memoryGiB": 64,
    "name": "ml.g4dn.4xlarge",
    "vcpuNum": 16
   },
   {
    "_defaultOrder": 32,
    "_isFastLaunch": false,
    "category": "Accelerated computing",
    "gpuNum": 1,
    "hideHardwareSpecs": false,
    "memoryGiB": 128,
    "name": "ml.g4dn.8xlarge",
    "vcpuNum": 32
   },
   {
    "_defaultOrder": 33,
    "_isFastLaunch": false,
    "category": "Accelerated computing",
    "gpuNum": 4,
    "hideHardwareSpecs": false,
    "memoryGiB": 192,
    "name": "ml.g4dn.12xlarge",
    "vcpuNum": 48
   },
   {
    "_defaultOrder": 34,
    "_isFastLaunch": false,
    "category": "Accelerated computing",
    "gpuNum": 1,
    "hideHardwareSpecs": false,
    "memoryGiB": 256,
    "name": "ml.g4dn.16xlarge",
    "vcpuNum": 64
   },
   {
    "_defaultOrder": 35,
    "_isFastLaunch": false,
    "category": "Accelerated computing",
    "gpuNum": 1,
    "hideHardwareSpecs": false,
    "memoryGiB": 61,
    "name": "ml.p3.2xlarge",
    "vcpuNum": 8
   },
   {
    "_defaultOrder": 36,
    "_isFastLaunch": false,
    "category": "Accelerated computing",
    "gpuNum": 4,
    "hideHardwareSpecs": false,
    "memoryGiB": 244,
    "name": "ml.p3.8xlarge",
    "vcpuNum": 32
   },
   {
    "_defaultOrder": 37,
    "_isFastLaunch": false,
    "category": "Accelerated computing",
    "gpuNum": 8,
    "hideHardwareSpecs": false,
    "memoryGiB": 488,
    "name": "ml.p3.16xlarge",
    "vcpuNum": 64
   },
   {
    "_defaultOrder": 38,
    "_isFastLaunch": false,
    "category": "Accelerated computing",
    "gpuNum": 8,
    "hideHardwareSpecs": false,
    "memoryGiB": 768,
    "name": "ml.p3dn.24xlarge",
    "vcpuNum": 96
   },
   {
    "_defaultOrder": 39,
    "_isFastLaunch": false,
    "category": "Memory Optimized",
    "gpuNum": 0,
    "hideHardwareSpecs": false,
    "memoryGiB": 16,
    "name": "ml.r5.large",
    "vcpuNum": 2
   },
   {
    "_defaultOrder": 40,
    "_isFastLaunch": false,
    "category": "Memory Optimized",
    "gpuNum": 0,
    "hideHardwareSpecs": false,
    "memoryGiB": 32,
    "name": "ml.r5.xlarge",
    "vcpuNum": 4
   },
   {
    "_defaultOrder": 41,
    "_isFastLaunch": false,
    "category": "Memory Optimized",
    "gpuNum": 0,
    "hideHardwareSpecs": false,
    "memoryGiB": 64,
    "name": "ml.r5.2xlarge",
    "vcpuNum": 8
   },
   {
    "_defaultOrder": 42,
    "_isFastLaunch": false,
    "category": "Memory Optimized",
    "gpuNum": 0,
    "hideHardwareSpecs": false,
    "memoryGiB": 128,
    "name": "ml.r5.4xlarge",
    "vcpuNum": 16
   },
   {
    "_defaultOrder": 43,
    "_isFastLaunch": false,
    "category": "Memory Optimized",
    "gpuNum": 0,
    "hideHardwareSpecs": false,
    "memoryGiB": 256,
    "name": "ml.r5.8xlarge",
    "vcpuNum": 32
   },
   {
    "_defaultOrder": 44,
    "_isFastLaunch": false,
    "category": "Memory Optimized",
    "gpuNum": 0,
    "hideHardwareSpecs": false,
    "memoryGiB": 384,
    "name": "ml.r5.12xlarge",
    "vcpuNum": 48
   },
   {
    "_defaultOrder": 45,
    "_isFastLaunch": false,
    "category": "Memory Optimized",
    "gpuNum": 0,
    "hideHardwareSpecs": false,
    "memoryGiB": 512,
    "name": "ml.r5.16xlarge",
    "vcpuNum": 64
   },
   {
    "_defaultOrder": 46,
    "_isFastLaunch": false,
    "category": "Memory Optimized",
    "gpuNum": 0,
    "hideHardwareSpecs": false,
    "memoryGiB": 768,
    "name": "ml.r5.24xlarge",
    "vcpuNum": 96
   },
   {
    "_defaultOrder": 47,
    "_isFastLaunch": false,
    "category": "Accelerated computing",
    "gpuNum": 1,
    "hideHardwareSpecs": false,
    "memoryGiB": 16,
    "name": "ml.g5.xlarge",
    "vcpuNum": 4
   },
   {
    "_defaultOrder": 48,
    "_isFastLaunch": false,
    "category": "Accelerated computing",
    "gpuNum": 1,
    "hideHardwareSpecs": false,
    "memoryGiB": 32,
    "name": "ml.g5.2xlarge",
    "vcpuNum": 8
   },
   {
    "_defaultOrder": 49,
    "_isFastLaunch": false,
    "category": "Accelerated computing",
    "gpuNum": 1,
    "hideHardwareSpecs": false,
    "memoryGiB": 64,
    "name": "ml.g5.4xlarge",
    "vcpuNum": 16
   },
   {
    "_defaultOrder": 50,
    "_isFastLaunch": false,
    "category": "Accelerated computing",
    "gpuNum": 1,
    "hideHardwareSpecs": false,
    "memoryGiB": 128,
    "name": "ml.g5.8xlarge",
    "vcpuNum": 32
   },
   {
    "_defaultOrder": 51,
    "_isFastLaunch": false,
    "category": "Accelerated computing",
    "gpuNum": 1,
    "hideHardwareSpecs": false,
    "memoryGiB": 256,
    "name": "ml.g5.16xlarge",
    "vcpuNum": 64
   },
   {
    "_defaultOrder": 52,
    "_isFastLaunch": false,
    "category": "Accelerated computing",
    "gpuNum": 4,
    "hideHardwareSpecs": false,
    "memoryGiB": 192,
    "name": "ml.g5.12xlarge",
    "vcpuNum": 48
   },
   {
    "_defaultOrder": 53,
    "_isFastLaunch": false,
    "category": "Accelerated computing",
    "gpuNum": 4,
    "hideHardwareSpecs": false,
    "memoryGiB": 384,
    "name": "ml.g5.24xlarge",
    "vcpuNum": 96
   },
   {
    "_defaultOrder": 54,
    "_isFastLaunch": false,
    "category": "Accelerated computing",
    "gpuNum": 8,
    "hideHardwareSpecs": false,
    "memoryGiB": 768,
    "name": "ml.g5.48xlarge",
    "vcpuNum": 192
   },
   {
    "_defaultOrder": 55,
    "_isFastLaunch": false,
    "category": "Accelerated computing",
    "gpuNum": 8,
    "hideHardwareSpecs": false,
    "memoryGiB": 1152,
    "name": "ml.p4d.24xlarge",
    "vcpuNum": 96
   },
   {
    "_defaultOrder": 56,
    "_isFastLaunch": false,
    "category": "Accelerated computing",
    "gpuNum": 8,
    "hideHardwareSpecs": false,
    "memoryGiB": 1152,
    "name": "ml.p4de.24xlarge",
    "vcpuNum": 96
   },
   {
    "_defaultOrder": 57,
    "_isFastLaunch": false,
    "category": "Accelerated computing",
    "gpuNum": 0,
    "hideHardwareSpecs": false,
    "memoryGiB": 32,
    "name": "ml.trn1.2xlarge",
    "vcpuNum": 8
   },
   {
    "_defaultOrder": 58,
    "_isFastLaunch": false,
    "category": "Accelerated computing",
    "gpuNum": 0,
    "hideHardwareSpecs": false,
    "memoryGiB": 512,
    "name": "ml.trn1.32xlarge",
    "vcpuNum": 128
   },
   {
    "_defaultOrder": 59,
    "_isFastLaunch": false,
    "category": "Accelerated computing",
    "gpuNum": 0,
    "hideHardwareSpecs": false,
    "memoryGiB": 512,
    "name": "ml.trn1n.32xlarge",
    "vcpuNum": 128
   }
  ],
  "instance_type": "ml.t3.medium",
  "kernelspec": {
   "display_name": "Python 3 (ipykernel)",
   "language": "python",
   "name": "python3"
  },
  "language_info": {
   "codemirror_mode": {
    "name": "ipython",
    "version": 3
   },
   "file_extension": ".py",
   "mimetype": "text/x-python",
   "name": "python",
   "nbconvert_exporter": "python",
   "pygments_lexer": "ipython3",
   "version": "3.11.9"
  }
 },
 "nbformat": 4,
 "nbformat_minor": 5
}
